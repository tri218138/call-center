{
 "cells": [
  {
   "attachments": {},
   "cell_type": "markdown",
   "metadata": {},
   "source": [
    "# Prequesite"
   ]
  },
  {
   "cell_type": "code",
   "execution_count": 37,
   "metadata": {},
   "outputs": [
    {
     "name": "stderr",
     "output_type": "stream",
     "text": [
      "'source' is not recognized as an internal or external command,\n",
      "operable program or batch file.\n"
     ]
    }
   ],
   "source": [
    "! python -m venv .venv\n",
    "! source .venv/bin/activate"
   ]
  },
  {
   "cell_type": "code",
   "execution_count": 38,
   "metadata": {},
   "outputs": [
    {
     "name": "stdout",
     "output_type": "stream",
     "text": [
      "Requirement already satisfied: pip in c:\\users\\admin\\appdata\\local\\programs\\python\\python310\\lib\\site-packages (23.0)\n",
      "Collecting pip\n",
      "  Using cached pip-23.1.2-py3-none-any.whl (2.1 MB)\n"
     ]
    },
    {
     "name": "stderr",
     "output_type": "stream",
     "text": [
      "ERROR: To modify pip, please run the following command:\n",
      "C:\\Users\\Admin\\AppData\\Local\\Programs\\Python\\Python310\\python.exe -m pip install --upgrade pip\n",
      "\n",
      "[notice] A new release of pip is available: 23.0 -> 23.1.2\n",
      "[notice] To update, run: python.exe -m pip install --upgrade pip\n"
     ]
    },
    {
     "name": "stdout",
     "output_type": "stream",
     "text": [
      "Requirement already satisfied: ipykernel in c:\\users\\admin\\appdata\\local\\programs\\python\\python310\\lib\\site-packages (6.16.0)\n",
      "Requirement already satisfied: tornado>=6.1 in c:\\users\\admin\\appdata\\local\\programs\\python\\python310\\lib\\site-packages (from ipykernel) (6.2)\n",
      "Requirement already satisfied: jupyter-client>=6.1.12 in c:\\users\\admin\\appdata\\local\\programs\\python\\python310\\lib\\site-packages (from ipykernel) (7.3.5)\n",
      "Requirement already satisfied: matplotlib-inline>=0.1 in c:\\users\\admin\\appdata\\local\\programs\\python\\python310\\lib\\site-packages (from ipykernel) (0.1.6)\n",
      "Requirement already satisfied: debugpy>=1.0 in c:\\users\\admin\\appdata\\local\\programs\\python\\python310\\lib\\site-packages (from ipykernel) (1.6.3)\n",
      "Requirement already satisfied: traitlets>=5.1.0 in c:\\users\\admin\\appdata\\local\\programs\\python\\python310\\lib\\site-packages (from ipykernel) (5.4.0)\n",
      "Requirement already satisfied: nest-asyncio in c:\\users\\admin\\appdata\\local\\programs\\python\\python310\\lib\\site-packages (from ipykernel) (1.5.6)\n",
      "Requirement already satisfied: ipython>=7.23.1 in c:\\users\\admin\\appdata\\local\\programs\\python\\python310\\lib\\site-packages (from ipykernel) (8.5.0)\n",
      "Requirement already satisfied: psutil in c:\\users\\admin\\appdata\\local\\programs\\python\\python310\\lib\\site-packages (from ipykernel) (5.9.0)\n",
      "Requirement already satisfied: pyzmq>=17 in c:\\users\\admin\\appdata\\local\\programs\\python\\python310\\lib\\site-packages (from ipykernel) (24.0.1)\n",
      "Requirement already satisfied: packaging in c:\\users\\admin\\appdata\\local\\programs\\python\\python310\\lib\\site-packages (from ipykernel) (21.3)\n",
      "Requirement already satisfied: pickleshare in c:\\users\\admin\\appdata\\local\\programs\\python\\python310\\lib\\site-packages (from ipython>=7.23.1->ipykernel) (0.7.5)\n",
      "Requirement already satisfied: pygments>=2.4.0 in c:\\users\\admin\\appdata\\local\\programs\\python\\python310\\lib\\site-packages (from ipython>=7.23.1->ipykernel) (2.13.0)\n",
      "Requirement already satisfied: decorator in c:\\users\\admin\\appdata\\local\\programs\\python\\python310\\lib\\site-packages (from ipython>=7.23.1->ipykernel) (5.1.1)\n",
      "Requirement already satisfied: prompt-toolkit<3.1.0,>3.0.1 in c:\\users\\admin\\appdata\\local\\programs\\python\\python310\\lib\\site-packages (from ipython>=7.23.1->ipykernel) (3.0.31)\n",
      "Requirement already satisfied: stack-data in c:\\users\\admin\\appdata\\local\\programs\\python\\python310\\lib\\site-packages (from ipython>=7.23.1->ipykernel) (0.5.1)\n",
      "Requirement already satisfied: jedi>=0.16 in c:\\users\\admin\\appdata\\local\\programs\\python\\python310\\lib\\site-packages (from ipython>=7.23.1->ipykernel) (0.18.1)\n",
      "Requirement already satisfied: backcall in c:\\users\\admin\\appdata\\local\\programs\\python\\python310\\lib\\site-packages (from ipython>=7.23.1->ipykernel) (0.2.0)\n",
      "Requirement already satisfied: colorama in c:\\users\\admin\\appdata\\local\\programs\\python\\python310\\lib\\site-packages (from ipython>=7.23.1->ipykernel) (0.4.6)\n",
      "Requirement already satisfied: python-dateutil>=2.8.2 in c:\\users\\admin\\appdata\\local\\programs\\python\\python310\\lib\\site-packages (from jupyter-client>=6.1.12->ipykernel) (2.8.2)\n",
      "Requirement already satisfied: jupyter-core>=4.9.2 in c:\\users\\admin\\appdata\\local\\programs\\python\\python310\\lib\\site-packages (from jupyter-client>=6.1.12->ipykernel) (4.11.1)\n",
      "Requirement already satisfied: entrypoints in c:\\users\\admin\\appdata\\local\\programs\\python\\python310\\lib\\site-packages (from jupyter-client>=6.1.12->ipykernel) (0.4)\n",
      "Requirement already satisfied: pyparsing!=3.0.5,>=2.0.2 in c:\\users\\admin\\appdata\\local\\programs\\python\\python310\\lib\\site-packages (from packaging->ipykernel) (3.0.6)\n",
      "Requirement already satisfied: parso<0.9.0,>=0.8.0 in c:\\users\\admin\\appdata\\local\\programs\\python\\python310\\lib\\site-packages (from jedi>=0.16->ipython>=7.23.1->ipykernel) (0.8.3)\n",
      "Requirement already satisfied: pywin32>=1.0 in c:\\users\\admin\\appdata\\local\\programs\\python\\python310\\lib\\site-packages (from jupyter-core>=4.9.2->jupyter-client>=6.1.12->ipykernel) (303)\n",
      "Requirement already satisfied: wcwidth in c:\\users\\admin\\appdata\\local\\programs\\python\\python310\\lib\\site-packages (from prompt-toolkit<3.1.0,>3.0.1->ipython>=7.23.1->ipykernel) (0.2.5)\n",
      "Requirement already satisfied: six>=1.5 in c:\\users\\admin\\appdata\\local\\programs\\python\\python310\\lib\\site-packages (from python-dateutil>=2.8.2->jupyter-client>=6.1.12->ipykernel) (1.16.0)\n",
      "Requirement already satisfied: executing in c:\\users\\admin\\appdata\\local\\programs\\python\\python310\\lib\\site-packages (from stack-data->ipython>=7.23.1->ipykernel) (1.1.1)\n",
      "Requirement already satisfied: asttokens in c:\\users\\admin\\appdata\\local\\programs\\python\\python310\\lib\\site-packages (from stack-data->ipython>=7.23.1->ipykernel) (2.0.8)\n",
      "Requirement already satisfied: pure-eval in c:\\users\\admin\\appdata\\local\\programs\\python\\python310\\lib\\site-packages (from stack-data->ipython>=7.23.1->ipykernel) (0.2.2)\n"
     ]
    },
    {
     "name": "stderr",
     "output_type": "stream",
     "text": [
      "\n",
      "[notice] A new release of pip is available: 23.0 -> 23.1.2\n",
      "[notice] To update, run: python.exe -m pip install --upgrade pip\n"
     ]
    },
    {
     "name": "stdout",
     "output_type": "stream",
     "text": [
      "Installed kernelspec .venv in C:\\ProgramData\\jupyter\\kernels\\.venv\n",
      "Requirement already satisfied: numpy in c:\\users\\admin\\appdata\\local\\programs\\python\\python310\\lib\\site-packages (1.22.4)\n",
      "Requirement already satisfied: pandas in c:\\users\\admin\\appdata\\local\\programs\\python\\python310\\lib\\site-packages (1.4.1)\n",
      "Requirement already satisfied: python-dateutil>=2.8.1 in c:\\users\\admin\\appdata\\local\\programs\\python\\python310\\lib\\site-packages (from pandas) (2.8.2)\n",
      "Requirement already satisfied: pytz>=2020.1 in c:\\users\\admin\\appdata\\local\\programs\\python\\python310\\lib\\site-packages (from pandas) (2022.1)\n",
      "Requirement already satisfied: six>=1.5 in c:\\users\\admin\\appdata\\local\\programs\\python\\python310\\lib\\site-packages (from python-dateutil>=2.8.1->pandas) (1.16.0)\n"
     ]
    },
    {
     "name": "stderr",
     "output_type": "stream",
     "text": [
      "\n",
      "[notice] A new release of pip is available: 23.0 -> 23.1.2\n",
      "[notice] To update, run: python.exe -m pip install --upgrade pip\n"
     ]
    }
   ],
   "source": [
    "! pip install --upgrade pip\n",
    "! pip install ipykernel\n",
    "! python -m ipykernel install --name=.venv\n",
    "! pip install numpy pandas\n",
    "! pip freeze > requirements.txt"
   ]
  },
  {
   "cell_type": "code",
   "execution_count": 39,
   "metadata": {},
   "outputs": [],
   "source": [
    "from pathlib import Path\n",
    "from solutions.task1_domain import ReadJson, CSRInquiries, ShiftsDetail\n",
    "from solutions import task1, task2, task3\n",
    "import numpy as np\n",
    "from functools import reduce\n",
    "\n",
    "read_json = ReadJson(Path(\"data/json\"))\n",
    "shifts_dict = read_json.read_shifts()\n",
    "day_dict = read_json.read_days()"
   ]
  },
  {
   "cell_type": "code",
   "execution_count": 40,
   "metadata": {},
   "outputs": [],
   "source": [
    "shifts_detail = ShiftsDetail(shifts_dict)\n",
    "csr_inquiries = CSRInquiries(day_dict)"
   ]
  },
  {
   "cell_type": "code",
   "execution_count": 41,
   "metadata": {},
   "outputs": [],
   "source": [
    "coefficients_c = np.ones(shifts_detail.num_of_shifts)"
   ]
  },
  {
   "cell_type": "code",
   "execution_count": 42,
   "metadata": {},
   "outputs": [
    {
     "data": {
      "text/plain": [
       "[array([14,  0,  2,  4,  0,  4]),\n",
       " array([14,  0,  4,  2,  0,  6]),\n",
       " array([12,  0,  2,  4,  0,  6]),\n",
       " array([12,  0,  0,  6,  2,  6]),\n",
       " array([8, 0, 4, 2, 0, 6]),\n",
       " array([5, 0, 0, 3, 0, 4]),\n",
       " array([5, 0, 0, 3, 1, 2])]"
      ]
     },
     "execution_count": 42,
     "metadata": {},
     "output_type": "execute_result"
    }
   ],
   "source": [
    "stat = [\n",
    "    (2 if day_j < 5 else 1) * task1.min_csr_of_a_day(coefficients_c, csr_inquiries, shifts_detail, day_j) \n",
    "    for day_j in range(csr_inquiries.num_of_days)\n",
    "]\n",
    "stat"
   ]
  },
  {
   "cell_type": "code",
   "execution_count": 43,
   "metadata": {},
   "outputs": [],
   "source": [
    "min_total_csr = max([reduce(lambda pre, cur: pre + cur, days, 0) for days in stat])"
   ]
  },
  {
   "cell_type": "code",
   "execution_count": 44,
   "metadata": {},
   "outputs": [],
   "source": [
    "employee_assignment = np.array(\n",
    "    [task1.label_shift_to_employee(shift, shifts_detail.columns, min_total_csr) for shift in stat]\n",
    ").T.tolist()"
   ]
  },
  {
   "cell_type": "code",
   "execution_count": 45,
   "metadata": {},
   "outputs": [
    {
     "data": {
      "text/plain": [
       "{'NV0': ['C1', 'C1', 'C1', 'C1', 'C1', 'C1', 'C1'],\n",
       " 'NV1': ['C1', 'C1', 'C1', 'C1', 'C1', 'C1', 'C1'],\n",
       " 'NV2': ['C1', 'C1', 'C1', 'C1', 'C1', 'C1', 'C1'],\n",
       " 'NV3': ['C1', 'C1', 'C1', 'C1', 'C1', 'C1', 'C1'],\n",
       " 'NV4': ['C1', 'C1', 'C1', 'C1', 'C1', 'C1', 'C1'],\n",
       " 'NV5': ['C1', 'C1', 'C1', 'C1', 'C1', 'C4', 'C4'],\n",
       " 'NV6': ['C1', 'C1', 'C1', 'C1', 'C1', 'C4', 'C4'],\n",
       " 'NV7': ['C1', 'C1', 'C1', 'C1', 'C1', 'C4', 'C4'],\n",
       " 'NV8': ['C1', 'C1', 'C1', 'C1', 'C3', 'C6', 'C5'],\n",
       " 'NV9': ['C1', 'C1', 'C1', 'C1', 'C3', 'C6', 'C6'],\n",
       " 'NV10': ['C1', 'C1', 'C1', 'C1', 'C3', 'C6', 'C6'],\n",
       " 'NV11': ['C1', 'C1', 'C1', 'C1', 'C3', 'C6', None],\n",
       " 'NV12': ['C1', 'C1', 'C3', 'C4', 'C4', None, None],\n",
       " 'NV13': ['C1', 'C1', 'C3', 'C4', 'C4', None, None],\n",
       " 'NV14': ['C3', 'C3', 'C4', 'C4', 'C6', None, None],\n",
       " 'NV15': ['C3', 'C3', 'C4', 'C4', 'C6', None, None],\n",
       " 'NV16': ['C4', 'C3', 'C4', 'C4', 'C6', None, None],\n",
       " 'NV17': ['C4', 'C3', 'C4', 'C4', 'C6', None, None],\n",
       " 'NV18': ['C4', 'C4', 'C6', 'C5', 'C6', None, None],\n",
       " 'NV19': ['C4', 'C4', 'C6', 'C5', 'C6', None, None],\n",
       " 'NV20': ['C6', 'C6', 'C6', 'C6', None, None, None],\n",
       " 'NV21': ['C6', 'C6', 'C6', 'C6', None, None, None],\n",
       " 'NV22': ['C6', 'C6', 'C6', 'C6', None, None, None],\n",
       " 'NV23': ['C6', 'C6', 'C6', 'C6', None, None, None],\n",
       " 'NV24': [None, 'C6', None, 'C6', None, None, None],\n",
       " 'NV25': [None, 'C6', None, 'C6', None, None, None]}"
      ]
     },
     "execution_count": 45,
     "metadata": {},
     "output_type": "execute_result"
    }
   ],
   "source": [
    "schedule = {f\"NV{i}\": em for i, em in enumerate(employee_assignment)}\n",
    "schedule"
   ]
  },
  {
   "cell_type": "code",
   "execution_count": 46,
   "metadata": {},
   "outputs": [],
   "source": [
    "# schedule = task2.solve(schedule)\n",
    "# schedule"
   ]
  },
  {
   "cell_type": "code",
   "execution_count": 47,
   "metadata": {},
   "outputs": [
    {
     "name": "stdout",
     "output_type": "stream",
     "text": [
      "        message: Optimization terminated successfully. (HiGHS Status 7: Optimal)\n",
      "        success: True\n",
      "         status: 0\n",
      "            fun: 101.0\n",
      "              x: [ 1.000e+00  0.000e+00 ...  0.000e+00  0.000e+00]\n",
      "            nit: -1\n",
      "          lower:  residual: [ 1.000e+00  0.000e+00 ...  0.000e+00\n",
      "                              0.000e+00]\n",
      "                 marginals: [ 0.000e+00  0.000e+00 ...  0.000e+00\n",
      "                              0.000e+00]\n",
      "          upper:  residual: [       inf        inf ...        inf\n",
      "                                    inf]\n",
      "                 marginals: [ 0.000e+00  0.000e+00 ...  0.000e+00\n",
      "                              0.000e+00]\n",
      "          eqlin:  residual: []\n",
      "                 marginals: []\n",
      "        ineqlin:  residual: [ 0.000e+00  1.000e+00 ...  0.000e+00\n",
      "                              0.000e+00]\n",
      "                 marginals: [ 0.000e+00  0.000e+00 ...  0.000e+00\n",
      "                              0.000e+00]\n",
      " mip_node_count: 1\n",
      " mip_dual_bound: 101.0\n",
      "        mip_gap: 0.0\n",
      "[ 1.  0.  0. ... -0.  0.  0.]\n"
     ]
    },
    {
     "data": {
      "text/plain": [
       "{'NV0': ['C1', None, None, 'C3', 'C5', 'C1', 'C6'],\n",
       " 'NV1': ['C1', None, None, None, 'C6', None, 'C1'],\n",
       " 'NV2': [None, None, 'C6', None, 'C1', 'C1', None],\n",
       " 'NV3': [None, 'C1', 'C6', None, None, 'C1', None],\n",
       " 'NV4': ['C1', None, 'C5', None, 'C1', None, 'C6'],\n",
       " 'NV5': ['C1', 'C5', None, None, 'C6', 'C4', 'C1'],\n",
       " 'NV6': ['C6', 'C4', 'C1', None, None, 'C3', 'C1'],\n",
       " 'NV7': [None, None, 'C5', 'C6', None, 'C1', 'C1'],\n",
       " 'NV8': [None, 'C1', None, 'C6', 'C1', None, None],\n",
       " 'NV9': ['C1', 'C6', None, None, None, 'C1', None],\n",
       " 'NV10': ['C1', 'C1', None, None, None, None, 'C6'],\n",
       " 'NV11': [None, None, None, 'C6', 'C1', None, 'C1'],\n",
       " 'NV12': ['C1', 'C5', 'C6', None, None, None, 'C1'],\n",
       " 'NV13': [None, 'C1', None, 'C1', None, 'C6', 'C5'],\n",
       " 'NV14': [None, None, 'C1', 'C1', 'C4', None, 'C6'],\n",
       " 'NV15': ['C1', 'C6', None, 'C4', 'C3', None, 'C1'],\n",
       " 'NV16': ['C5', None, 'C1', 'C1', 'C6', 'C3', None],\n",
       " 'NV17': ['C6', 'C1', None, 'C1', None, None, 'C5'],\n",
       " 'NV18': ['C3', None, None, 'C1', 'C6', None, 'C1'],\n",
       " 'NV19': ['C1', 'C6', None, None, None, 'C1', 'C4'],\n",
       " 'NV20': ['C6', 'C1', None, 'C3', None, 'C1', 'C5'],\n",
       " 'NV21': ['C1', None, None, None, 'C6', 'C1', None],\n",
       " 'NV22': [None, 'C6', 'C1', 'C1', None, None, None],\n",
       " 'NV23': ['C3', 'C1', 'C6', 'C5', None, None, 'C1'],\n",
       " 'NV24': [None, None, 'C1', 'C1', None, 'C6', None],\n",
       " 'NV25': [None, None, 'C4', 'C1', None, 'C6', 'C1']}"
      ]
     },
     "execution_count": 47,
     "metadata": {},
     "output_type": "execute_result"
    }
   ],
   "source": [
    "task3.solve(shifts_dict, day_dict, schedule)"
   ]
  },
  {
   "attachments": {},
   "cell_type": "markdown",
   "metadata": {},
   "source": [
    "Failed miserably :>>>"
   ]
  },
  {
   "cell_type": "code",
   "execution_count": 48,
   "metadata": {},
   "outputs": [
    {
     "data": {
      "text/plain": [
       "{'Monday': [3, 5, 5, 4, 2, 2, 4, 4, 4, 3, 2, 2, 1],\n",
       " 'Tuesday': [3, 5, 4, 4, 2, 2, 4, 3, 5, 3, 2, 2, 2],\n",
       " 'Wednesday': [4, 5, 5, 3, 2, 2, 3, 4, 4, 2, 2, 2, 2],\n",
       " 'Thursday': [3, 5, 4, 3, 2, 2, 3, 4, 4, 3, 2, 2, 2],\n",
       " 'Friday': [3, 4, 4, 4, 2, 3, 3, 4, 3, 3, 2, 2, 2],\n",
       " 'Saturday': [6, 9, 9, 4, 3, 3, 4, 5, 5, 5, 3, 3, 2]}"
      ]
     },
     "execution_count": 48,
     "metadata": {},
     "output_type": "execute_result"
    }
   ],
   "source": [
    "import math\n",
    "\n",
    "table_1 = {\n",
    "    name: [math.ceil(period / 2) if name != \"Saturday\" else period for period in shift]\n",
    "    for name, shift in day_dict.items() if name != \"Sunday\"\n",
    "}\n",
    "table_1"
   ]
  },
  {
   "cell_type": "code",
   "execution_count": 49,
   "metadata": {},
   "outputs": [
    {
     "data": {
      "text/plain": [
       "{'Monday': [3, 5, 5, 4, 2, 2, 4, 4, 4, 3, 2, 2, 1],\n",
       " 'Tuesday': [3, 5, 4, 4, 2, 2, 4, 3, 5, 3, 2, 2, 2],\n",
       " 'Wednesday': [4, 5, 5, 3, 2, 2, 3, 4, 4, 2, 2, 2, 2],\n",
       " 'Thursday': [3, 5, 4, 3, 2, 2, 3, 4, 4, 3, 2, 2, 2],\n",
       " 'Friday': [3, 4, 4, 4, 2, 3, 3, 4, 3, 3, 2, 2, 2],\n",
       " 'Sunday': [5, 7, 6, 5, 4, 3, 4, 5, 6, 5, 3, 3, 3]}"
      ]
     },
     "execution_count": 49,
     "metadata": {},
     "output_type": "execute_result"
    }
   ],
   "source": [
    "import math\n",
    "\n",
    "table_2 = {\n",
    "    name: [math.ceil(period / 2) if name != \"Sunday\" else period for period in shift]\n",
    "    for name, shift in day_dict.items() if name != \"Saturday\"\n",
    "}\n",
    "table_2"
   ]
  },
  {
   "cell_type": "code",
   "execution_count": 50,
   "metadata": {},
   "outputs": [
    {
     "data": {
      "text/plain": [
       "{'NV0': ['C1', 'C1', 'C1', 'C1', 'C1', 'C1'],\n",
       " 'NV1': ['C1', 'C1', 'C1', 'C1', 'C1', 'C1'],\n",
       " 'NV2': ['C1', 'C1', 'C1', 'C1', 'C3', 'C1'],\n",
       " 'NV3': ['C1', 'C6', 'C3', 'C3', 'C4', 'C1'],\n",
       " 'NV4': ['C4', None, 'C4', 'C4', 'C6', 'C1'],\n",
       " 'NV5': ['C4', None, 'C6', 'C6', 'C6', 'C4'],\n",
       " 'NV6': ['C6', None, 'C6', 'C6', None, 'C4'],\n",
       " 'NV7': [None, None, None, None, None, 'C4'],\n",
       " 'NV8': [None, None, None, None, None, 'C6'],\n",
       " 'NV9': [None, None, None, None, None, 'C6'],\n",
       " 'NV10': [None, None, None, None, None, 'C6'],\n",
       " 'NV11': [None, None, None, None, None, 'C6']}"
      ]
     },
     "execution_count": 50,
     "metadata": {},
     "output_type": "execute_result"
    }
   ],
   "source": [
    "schedule_1 = task1.solve(shifts_dict, table_1)\n",
    "schedule_1"
   ]
  },
  {
   "cell_type": "code",
   "execution_count": 51,
   "metadata": {},
   "outputs": [
    {
     "data": {
      "text/plain": [
       "{'NV0': ['C1', 'C1', 'C1', 'C1', 'C1', 'C1'],\n",
       " 'NV1': ['C1', 'C1', 'C1', 'C1', 'C1', 'C1'],\n",
       " 'NV2': ['C1', 'C1', 'C1', 'C1', 'C3', 'C1'],\n",
       " 'NV3': ['C1', 'C6', 'C3', 'C3', 'C4', 'C1'],\n",
       " 'NV4': ['C4', None, 'C4', 'C4', 'C6', 'C1'],\n",
       " 'NV5': ['C4', None, 'C6', 'C6', 'C6', 'C4'],\n",
       " 'NV6': ['C6', None, 'C6', 'C6', None, 'C4'],\n",
       " 'NV7': [None, None, None, None, None, 'C4'],\n",
       " 'NV8': [None, None, None, None, None, 'C5'],\n",
       " 'NV9': [None, None, None, None, None, 'C6'],\n",
       " 'NV10': [None, None, None, None, None, 'C6']}"
      ]
     },
     "execution_count": 51,
     "metadata": {},
     "output_type": "execute_result"
    }
   ],
   "source": [
    "schedule_2 = task1.solve(shifts_dict, table_2)\n",
    "schedule_2"
   ]
  },
  {
   "cell_type": "code",
   "execution_count": 52,
   "metadata": {},
   "outputs": [
    {
     "data": {
      "text/plain": [
       "{'NV0': [None, None, 'C1', 'C1', None, 'C1'],\n",
       " 'NV1': [None, 'C1', None, 'C1', None, 'C1'],\n",
       " 'NV2': [None, 'C1', None, 'C1', None, 'C1'],\n",
       " 'NV3': [None, 'C1', None, 'C3', None, 'C1'],\n",
       " 'NV4': [None, 'C6', None, 'C4', None, 'C1'],\n",
       " 'NV5': ['C1', None, None, 'C6', 'C1', 'C4'],\n",
       " 'NV6': ['C1', None, 'C1', None, 'C1', 'C4'],\n",
       " 'NV7': ['C1', None, 'C1', None, 'C3', 'C4'],\n",
       " 'NV8': ['C1', None, 'C3', None, 'C4', 'C6'],\n",
       " 'NV9': ['C4', None, 'C4', None, 'C6', 'C6'],\n",
       " 'NV10': ['C4', None, 'C6', None, 'C6', 'C6'],\n",
       " 'NV11': ['C6', None, 'C6', 'C6', None, 'C6']}"
      ]
     },
     "execution_count": 52,
     "metadata": {},
     "output_type": "execute_result"
    }
   ],
   "source": [
    "schedule_1 = task2.solve(schedule_1)\n",
    "schedule_1"
   ]
  },
  {
   "cell_type": "code",
   "execution_count": 53,
   "metadata": {},
   "outputs": [
    {
     "name": "stdout",
     "output_type": "stream",
     "text": [
      "        message: Optimization terminated successfully. (HiGHS Status 7: Optimal)\n",
      "        success: True\n",
      "         status: 0\n",
      "            fun: 46.0\n",
      "              x: [ 1.000e+00  0.000e+00 ...  0.000e+00  0.000e+00]\n",
      "            nit: -1\n",
      "          lower:  residual: [ 1.000e+00  0.000e+00 ...  0.000e+00\n",
      "                              0.000e+00]\n",
      "                 marginals: [ 0.000e+00  0.000e+00 ...  0.000e+00\n",
      "                              0.000e+00]\n",
      "          upper:  residual: [       inf        inf ...        inf\n",
      "                                    inf]\n",
      "                 marginals: [ 0.000e+00  0.000e+00 ...  0.000e+00\n",
      "                              0.000e+00]\n",
      "          eqlin:  residual: []\n",
      "                 marginals: []\n",
      "        ineqlin:  residual: [ 0.000e+00  1.000e+00 ...  0.000e+00\n",
      "                              0.000e+00]\n",
      "                 marginals: [ 0.000e+00  0.000e+00 ...  0.000e+00\n",
      "                              0.000e+00]\n",
      " mip_node_count: 1\n",
      " mip_dual_bound: 46.0\n",
      "        mip_gap: 0.0\n",
      "[1. 0. 0. 0. 0. 0. 0. 0. 0. 0. 0. 0. 0. 0. 0. 0. 0. 1. 1. 0. 0. 0. 0. 0.\n",
      " 0. 0. 0. 0. 0. 0. 0. 0. 0. 1. 0. 0. 0. 0. 1. 0. 0. 0. 0. 0. 0. 0. 0. 0.\n",
      " 1. 0. 0. 0. 0. 0. 0. 0. 0. 0. 0. 1. 0. 0. 0. 0. 0. 0. 1. 0. 0. 0. 0. 0.\n",
      " 0. 0. 0. 0. 0. 0. 0. 0. 0. 0. 0. 1. 1. 0. 0. 0. 0. 0. 0. 0. 0. 0. 0. 0.\n",
      " 0. 0. 0. 0. 0. 0. 1. 0. 0. 0. 0. 0. 0. 0. 1. 0. 0. 0. 1. 0. 0. 0. 0. 0.\n",
      " 0. 0. 0. 0. 0. 0. 0. 0. 0. 0. 0. 0. 0. 0. 0. 0. 0. 0. 0. 0. 0. 0. 0. 1.\n",
      " 0. 0. 0. 0. 0. 1. 0. 0. 0. 0. 0. 0. 0. 0. 0. 0. 0. 0. 1. 0. 0. 0. 0. 0.\n",
      " 0. 0. 1. 0. 0. 0. 1. 0. 0. 0. 0. 0. 0. 0. 0. 0. 0. 0. 1. 0. 0. 0. 0. 0.\n",
      " 0. 0. 0. 0. 0. 0. 0. 0. 0. 0. 0. 0. 0. 0. 0. 0. 0. 1. 0. 0. 1. 0. 0. 0.\n",
      " 1. 0. 0. 0. 0. 0. 0. 0. 0. 0. 0. 0. 0. 0. 0. 0. 0. 0. 0. 0. 0. 0. 0. 1.\n",
      " 0. 0. 0. 0. 0. 0. 1. 0. 0. 0. 0. 0. 0. 0. 0. 0. 0. 0. 0. 0. 0. 0. 0. 1.\n",
      " 0. 0. 0. 0. 0. 0. 0. 0. 0. 0. 0. 0. 1. 0. 0. 0. 0. 0. 1. 0. 0. 0. 0. 0.\n",
      " 1. 0. 0. 0. 0. 0. 1. 0. 0. 0. 0. 0. 0. 0. 0. 0. 0. 1. 0. 0. 1. 0. 0. 0.\n",
      " 0. 0. 0. 0. 0. 0. 0. 0. 0. 1. 0. 0. 0. 0. 0. 0. 0. 0. 0. 0. 1. 0. 0. 0.\n",
      " 0. 0. 0. 1. 0. 0. 1. 0. 0. 0. 0. 0. 1. 0. 0. 0. 0. 0. 0. 0. 0. 0. 0. 1.\n",
      " 0. 0. 0. 0. 0. 0. 0. 0. 1. 0. 0. 0. 1. 0. 0. 0. 0. 0. 0. 0. 0. 1. 0. 0.\n",
      " 0. 0. 0. 0. 0. 1. 1. 0. 0. 0. 0. 0. 0. 0. 0. 0. 0. 1. 0. 0. 0. 0. 0. 0.\n",
      " 0. 0. 1. 0. 0. 0. 0. 0. 0. 0. 0. 0. 0. 0. 0. 1. 0. 0. 1. 0. 0. 0. 0. 0.]\n"
     ]
    },
    {
     "data": {
      "text/plain": [
       "{'NV0': ['C1', None, 'C6', 'C1', None, 'C4'],\n",
       " 'NV1': ['C3', None, 'C1', 'C6', None, 'C1'],\n",
       " 'NV2': [None, 'C6', 'C1', None, None, 'C1'],\n",
       " 'NV3': ['C3', 'C1', None, None, None, 'C6'],\n",
       " 'NV4': ['C6', None, None, 'C1', 'C3', 'C1'],\n",
       " 'NV5': [None, 'C1', None, None, 'C6', 'C3'],\n",
       " 'NV6': ['C1', None, None, 'C6', None, 'C1'],\n",
       " 'NV7': [None, 'C6', None, None, 'C1', 'C1'],\n",
       " 'NV8': ['C1', 'C1', 'C6', 'C3', None, 'C4'],\n",
       " 'NV9': [None, 'C3', 'C4', 'C1', 'C1', 'C6'],\n",
       " 'NV10': [None, 'C3', 'C1', 'C4', 'C6', 'C1'],\n",
       " 'NV11': ['C6', None, 'C3', None, 'C4', 'C1']}"
      ]
     },
     "execution_count": 53,
     "metadata": {},
     "output_type": "execute_result"
    }
   ],
   "source": [
    "schedule_1 = task3.solve(shifts_dict, table_1, schedule_1)\n",
    "schedule_1"
   ]
  },
  {
   "cell_type": "code",
   "execution_count": 54,
   "metadata": {},
   "outputs": [
    {
     "data": {
      "text/plain": [
       "{'NV0': [None, 'C1', None, 'C1', None, 'C1'],\n",
       " 'NV1': [None, 'C1', None, 'C1', None, 'C1'],\n",
       " 'NV2': [None, 'C1', None, 'C1', 'C1', 'C1'],\n",
       " 'NV3': [None, 'C6', None, 'C3', 'C1', 'C1'],\n",
       " 'NV4': ['C1', None, 'C1', None, 'C3', 'C1'],\n",
       " 'NV5': ['C1', None, 'C1', None, 'C4', 'C4'],\n",
       " 'NV6': ['C1', None, 'C1', None, 'C6', 'C4'],\n",
       " 'NV7': ['C1', None, 'C3', None, 'C6', 'C4'],\n",
       " 'NV8': ['C4', None, 'C4', 'C4', None, 'C5'],\n",
       " 'NV9': ['C4', None, 'C6', 'C6', None, 'C6'],\n",
       " 'NV10': ['C6', None, 'C6', 'C6', None, 'C6']}"
      ]
     },
     "execution_count": 54,
     "metadata": {},
     "output_type": "execute_result"
    }
   ],
   "source": [
    "schedule_2 = task2.solve(schedule_2)\n",
    "schedule_2"
   ]
  },
  {
   "cell_type": "code",
   "execution_count": 55,
   "metadata": {},
   "outputs": [
    {
     "name": "stdout",
     "output_type": "stream",
     "text": [
      "        message: Optimization terminated successfully. (HiGHS Status 7: Optimal)\n",
      "        success: True\n",
      "         status: 0\n",
      "            fun: 45.0\n",
      "              x: [ 1.000e+00  0.000e+00 ...  0.000e+00  1.000e+00]\n",
      "            nit: -1\n",
      "          lower:  residual: [ 1.000e+00  0.000e+00 ...  0.000e+00\n",
      "                              1.000e+00]\n",
      "                 marginals: [ 0.000e+00  0.000e+00 ...  0.000e+00\n",
      "                              0.000e+00]\n",
      "          upper:  residual: [       inf        inf ...        inf\n",
      "                                    inf]\n",
      "                 marginals: [ 0.000e+00  0.000e+00 ...  0.000e+00\n",
      "                              0.000e+00]\n",
      "          eqlin:  residual: []\n",
      "                 marginals: []\n",
      "        ineqlin:  residual: [ 0.000e+00  0.000e+00 ...  1.000e+00\n",
      "                              1.000e+00]\n",
      "                 marginals: [ 0.000e+00  0.000e+00 ...  0.000e+00\n",
      "                              0.000e+00]\n",
      " mip_node_count: 1\n",
      " mip_dual_bound: 45.0\n",
      "        mip_gap: 0.0\n",
      "[ 1.  0.  0.  0.  0.  0. -0.  0.  0.  0.  0.  1.  0.  0. -0.  0.  0.  0.\n",
      "  0.  0.  0. -0.  1. -0.  0.  0.  0.  0.  0.  0.  0.  0.  1.  0.  0.  0.\n",
      "  0.  0.  1.  0.  0.  0.  0.  0.  0.  0.  0.  1.  0.  0.  0.  0.  0.  0.\n",
      "  1.  0.  0.  0.  0. -0.  0.  0.  0.  0.  0. -0. -0.  0.  0.  0.  1.  0.\n",
      "  0.  0.  0.  1.  0.  0.  0.  0.  0.  0. -0.  0.  1.  0.  0.  0.  0.  0.\n",
      "  1.  0.  0.  0.  0. -0. -0.  0.  0.  0.  0.  0.  0.  0. -0.  0.  0.  1.\n",
      "  0.  0.  0.  0.  0.  1.  1.  0.  0.  0.  0. -0.  0.  0.  1.  0.  0.  0.\n",
      "  1.  0.  0.  0. -0.  0.  0.  0.  0.  0. -0.  0.  0.  0. -0.  1.  0.  0.\n",
      "  1.  0. -0.  0.  0.  0.  1.  0.  0.  0.  0. -0.  0.  0.  0.  0.  0.  0.\n",
      "  0.  0.  0.  0.  0.  0.  0.  0.  0.  0.  0.  1.  0.  0.  0.  1.  0. -0.\n",
      "  1.  0.  0. -0.  0.  0.  0.  0.  0.  0.  0. -0.  0.  0.  0.  0.  0.  1.\n",
      "  0.  0.  0.  0. -0.  0.  0.  0.  0.  0.  0.  0.  1.  0. -0.  0.  0.  0.\n",
      "  0.  0.  0.  0.  0.  0.  0.  0.  1.  0.  0.  0.  0.  0.  0.  0.  0.  1.\n",
      "  0.  0.  0.  0.  0.  0.  1.  0.  0.  0.  0. -0.  1.  0. -0.  0.  0.  0.\n",
      "  0.  0.  0.  0. -0.  0.  0.  0.  1. -0.  0. -0.  0.  0.  0.  1. -0.  0.\n",
      " -0.  0.  0.  0.  0.  1.  1.  0. -0.  0.  0.  0.  1.  0. -0.  0.  0.  0.\n",
      "  0.  0.  0.  0.  0. -0.  1.  0.  0.  0.  0. -0.  0.  0.  0. -0.  0.  0.\n",
      "  0.  0.  0.  0.  0.  1. -0.  0.  0.  1.  0.  0.  1.  0.  0.  0.  0. -0.\n",
      "  0.  0.  0.  0.  0.  0.  0.  0.  0.  0.  0.  0.  1.  0.  0.  0.  0.  0.\n",
      "  0.  0.  0.  0.  0.  0.  0.  0. -0.  0.  0.  1.  1.  0.  0. -0.  0.  0.\n",
      "  1.  0.  0.  0.  0.  0.  0.  0.  0.  0.  0. -0.  1.  0.  0.  0.  0.  0.\n",
      "  0.  0.  0.  1.  0.  0.  0.  0.  1.  0.  0.  0.  0.  0.  0.  0.  0.  1.]\n"
     ]
    },
    {
     "data": {
      "text/plain": [
       "{'NV0': ['C1', 'C6', None, 'C5', None, 'C3'],\n",
       " 'NV1': ['C3', 'C6', None, 'C1', None, 'C5'],\n",
       " 'NV2': ['C4', None, 'C1', 'C1', None, 'C6'],\n",
       " 'NV3': ['C6', 'C1', 'C3', 'C1', None, 'C4'],\n",
       " 'NV4': ['C1', 'C1', None, None, 'C6', 'C4'],\n",
       " 'NV5': ['C1', None, 'C6', None, None, 'C1'],\n",
       " 'NV6': [None, 'C3', 'C6', None, 'C1', 'C1'],\n",
       " 'NV7': [None, 'C3', 'C4', 'C6', 'C1', 'C1'],\n",
       " 'NV8': [None, 'C1', None, 'C6', 'C4', 'C1'],\n",
       " 'NV9': [None, None, 'C1', None, 'C6', 'C1'],\n",
       " 'NV10': ['C1', None, 'C1', 'C4', 'C3', 'C6']}"
      ]
     },
     "execution_count": 55,
     "metadata": {},
     "output_type": "execute_result"
    }
   ],
   "source": [
    "schedule_2 = task3.solve(shifts_dict, table_2, schedule_2)\n",
    "schedule_2"
   ]
  },
  {
   "cell_type": "code",
   "execution_count": 56,
   "metadata": {},
   "outputs": [
    {
     "data": {
      "text/plain": [
       "{'NV0': ['C1', None, 'C6', 'C1', None, 'C4', None],\n",
       " 'NV1': ['C3', None, 'C1', 'C6', None, 'C1', None],\n",
       " 'NV2': [None, 'C6', 'C1', None, None, 'C1', None],\n",
       " 'NV3': ['C3', 'C1', None, None, None, 'C6', None],\n",
       " 'NV4': ['C6', None, None, 'C1', 'C3', 'C1', None],\n",
       " 'NV5': [None, 'C1', None, None, 'C6', 'C3', None],\n",
       " 'NV6': ['C1', None, None, 'C6', None, 'C1', None],\n",
       " 'NV7': [None, 'C6', None, None, 'C1', 'C1', None],\n",
       " 'NV8': ['C1', 'C1', 'C6', 'C3', None, 'C4', None],\n",
       " 'NV9': [None, 'C3', 'C4', 'C1', 'C1', 'C6', None],\n",
       " 'NV10': [None, 'C3', 'C1', 'C4', 'C6', 'C1', None],\n",
       " 'NV11': ['C6', None, 'C3', None, 'C4', 'C1', None]}"
      ]
     },
     "execution_count": 56,
     "metadata": {},
     "output_type": "execute_result"
    }
   ],
   "source": [
    "# add sunday col to schedule_1\n",
    "schedule_1 = { employee: shift + [None] for employee, shift in schedule_1.items()}\n",
    "schedule_1"
   ]
  },
  {
   "cell_type": "code",
   "execution_count": 57,
   "metadata": {},
   "outputs": [
    {
     "data": {
      "text/plain": [
       "{'NV11': ['C1', None, 'C1', 'C4', 'C3', None, 'C6'],\n",
       " 'NV12': ['C3', 'C6', None, 'C1', None, None, 'C5'],\n",
       " 'NV13': ['C4', None, 'C1', 'C1', None, None, 'C6'],\n",
       " 'NV14': ['C6', 'C1', 'C3', 'C1', None, None, 'C4'],\n",
       " 'NV15': ['C1', 'C1', None, None, 'C6', None, 'C4'],\n",
       " 'NV16': ['C1', None, 'C6', None, None, None, 'C1'],\n",
       " 'NV17': [None, 'C3', 'C6', None, 'C1', None, 'C1'],\n",
       " 'NV18': [None, 'C3', 'C4', 'C6', 'C1', None, 'C1'],\n",
       " 'NV19': [None, 'C1', None, 'C6', 'C4', None, 'C1'],\n",
       " 'NV20': [None, None, 'C1', None, 'C6', None, 'C1']}"
      ]
     },
     "execution_count": 57,
     "metadata": {},
     "output_type": "execute_result"
    }
   ],
   "source": [
    "# add saturday col to schedule_1\n",
    "offset = len(schedule_2.keys())\n",
    "for employee, shift in schedule_2.items():\n",
    "    shift.insert(-1, None)\n",
    "schedule_2 = {f\"NV{int(employee[-1])+ offset}\": shift for employee, shift in schedule_2.items()}\n",
    "schedule_2"
   ]
  },
  {
   "cell_type": "code",
   "execution_count": 58,
   "metadata": {},
   "outputs": [
    {
     "data": {
      "text/plain": [
       "{'NV0': ['C1', None, 'C6', 'C1', None, 'C4', None],\n",
       " 'NV1': ['C3', None, 'C1', 'C6', None, 'C1', None],\n",
       " 'NV2': [None, 'C6', 'C1', None, None, 'C1', None],\n",
       " 'NV3': ['C3', 'C1', None, None, None, 'C6', None],\n",
       " 'NV4': ['C6', None, None, 'C1', 'C3', 'C1', None],\n",
       " 'NV5': [None, 'C1', None, None, 'C6', 'C3', None],\n",
       " 'NV6': ['C1', None, None, 'C6', None, 'C1', None],\n",
       " 'NV7': [None, 'C6', None, None, 'C1', 'C1', None],\n",
       " 'NV8': ['C1', 'C1', 'C6', 'C3', None, 'C4', None],\n",
       " 'NV9': [None, 'C3', 'C4', 'C1', 'C1', 'C6', None],\n",
       " 'NV10': [None, 'C3', 'C1', 'C4', 'C6', 'C1', None],\n",
       " 'NV11': ['C1', None, 'C1', 'C4', 'C3', None, 'C6'],\n",
       " 'NV12': ['C3', 'C6', None, 'C1', None, None, 'C5'],\n",
       " 'NV13': ['C4', None, 'C1', 'C1', None, None, 'C6'],\n",
       " 'NV14': ['C6', 'C1', 'C3', 'C1', None, None, 'C4'],\n",
       " 'NV15': ['C1', 'C1', None, None, 'C6', None, 'C4'],\n",
       " 'NV16': ['C1', None, 'C6', None, None, None, 'C1'],\n",
       " 'NV17': [None, 'C3', 'C6', None, 'C1', None, 'C1'],\n",
       " 'NV18': [None, 'C3', 'C4', 'C6', 'C1', None, 'C1'],\n",
       " 'NV19': [None, 'C1', None, 'C6', 'C4', None, 'C1'],\n",
       " 'NV20': [None, None, 'C1', None, 'C6', None, 'C1']}"
      ]
     },
     "execution_count": 58,
     "metadata": {},
     "output_type": "execute_result"
    }
   ],
   "source": [
    "merge = list(schedule_1.items()) + list(schedule_2.items())\n",
    "merge = {employee: shift for employee, shift in merge}\n",
    "merge"
   ]
  },
  {
   "cell_type": "code",
   "execution_count": 59,
   "metadata": {},
   "outputs": [
    {
     "name": "stdout",
     "output_type": "stream",
     "text": [
      "        message: Optimization terminated successfully. (HiGHS Status 7: Optimal)\n",
      "        success: True\n",
      "         status: 0\n",
      "            fun: 83.0\n",
      "              x: [ 0.000e+00  0.000e+00 ...  0.000e+00  0.000e+00]\n",
      "            nit: -1\n",
      "          lower:  residual: [ 0.000e+00  0.000e+00 ...  0.000e+00\n",
      "                              0.000e+00]\n",
      "                 marginals: [ 0.000e+00  0.000e+00 ...  0.000e+00\n",
      "                              0.000e+00]\n",
      "          upper:  residual: [       inf        inf ...        inf\n",
      "                                    inf]\n",
      "                 marginals: [ 0.000e+00  0.000e+00 ...  0.000e+00\n",
      "                              0.000e+00]\n",
      "          eqlin:  residual: []\n",
      "                 marginals: []\n",
      "        ineqlin:  residual: [ 1.000e+00  1.000e+00 ...  0.000e+00\n",
      "                              0.000e+00]\n",
      "                 marginals: [ 0.000e+00  0.000e+00 ...  0.000e+00\n",
      "                              0.000e+00]\n",
      " mip_node_count: 1\n",
      " mip_dual_bound: 83.0\n",
      "        mip_gap: 0.0\n",
      "[ 0.  0.  0.  0.  0.  0.  0.  0.  0.  0.  0.  0.  0.  0.  0.  0. -0.  1.\n",
      "  1.  0.  0.  0.  0.  0.  1.  0.  0.  0.  0. -0. -0.  0.  0.  0.  0.  0.\n",
      "  0.  0.  1.  0.  0.  0.  1.  0.  0.  0.  0.  0.  0.  0.  0.  0.  0.  1.\n",
      "  0.  0.  0.  0.  0.  0.  1.  0.  0.  0.  0.  0.  0.  0.  1.  0.  0.  0.\n",
      "  0.  0.  0.  0.  0. -0.  0.  0.  0.  0.  0.  0.  1.  0.  0.  0.  0.  0.\n",
      "  0.  0.  0.  0. -0. -0.  0.  0.  0.  0.  0.  0.  0.  0.  0.  0.  0.  0.\n",
      "  0.  0.  0.  0.  0.  0. -0.  0.  0.  0.  0.  1. -0.  0.  0.  0. -0.  0.\n",
      "  0.  0. -0. -0.  0.  0.  0.  0.  0.  1.  0.  0.  1.  0.  0.  0.  0. -0.\n",
      "  0.  0.  0.  0.  0.  1.  0.  0.  0.  0.  0.  0.  1.  0.  0.  0.  0.  0.\n",
      " -0.  0.  1.  0.  0.  0.  1.  0.  0.  0.  0.  0.  0.  0. -0.  0.  1.  0.\n",
      "  0.  0.  0.  0.  0. -0.  0.  0.  0.  0.  0.  0. -0.  0.  1.  0.  0.  0.\n",
      "  0.  0. -0.  0.  0.  1.  1.  0.  0.  0.  0.  0.  0.  0.  0.  0.  0.  0.\n",
      " -0.  0.  0.  0.  0.  0.  1.  0.  0.  0.  0.  0.  0.  0.  0.  0.  0.  0.\n",
      "  0.  0.  0.  0.  0.  1.  1.  0.  0.  0.  0.  0.  0.  0.  0.  0.  0. -0.\n",
      "  1.  0.  0.  0.  0.  0.  0.  0.  0.  0.  0.  0.  0.  0.  0.  0.  0. -0.\n",
      "  0.  0. -0.  0.  0.  1. -0.  0.  0.  0.  0.  0.  1.  0.  0.  0.  0.  0.\n",
      "  0.  0.  0.  0.  0.  0.  0.  0.  0.  0.  0.  0.  1.  0.  0.  0.  0.  0.\n",
      "  1.  0.  0. -0.  0.  0.  0.  0.  0.  1.  0.  0. -0.  0.  0.  0.  0.  0.\n",
      "  0.  0.  0.  0.  0.  1.  0.  0.  0.  0.  0. -0. -0.  0.  0.  1.  0.  0.\n",
      "  1.  0.  0. -0.  0.  0.  1.  0. -0.  0.  0. -0.  0.  0.  0.  0.  0.  0.\n",
      "  0.  0.  0.  0. -0.  0.  0.  0.  0.  0.  0.  1.  0.  0.  0.  0.  0.  0.\n",
      "  0.  0.  0.  0. -0.  0.  1.  0.  0.  0.  0. -0.  0.  0.  0.  0.  1.  0.\n",
      "  0.  0.  1.  0.  0.  0.  1.  0.  0.  0.  0. -0.  0.  0.  0.  0.  0.  0.\n",
      "  0.  0.  0.  0.  0.  1.  1.  0.  0.  0.  0.  0.  1.  0. -0.  0.  0.  0.\n",
      "  0.  0.  0.  0.  0.  1.  0.  0.  1.  0.  0.  0.  0.  0.  0.  0.  0.  0.\n",
      "  0.  0.  0.  0.  0.  0. -0.  0.  0.  1.  0. -0.  0.  0.  0.  0.  0.  1.\n",
      "  0.  0.  0.  0.  0. -0.  1.  0.  0. -0.  0.  0.  0.  0.  0.  0.  0.  0.\n",
      "  0.  0.  0. -0.  0.  0.  1.  0.  0.  0.  0.  0.  0.  0. -0.  0.  1.  0.\n",
      "  0.  0.  0.  0.  0.  0. -0.  0.  0.  0.  0.  0.  0.  0.  0.  0.  0. -0.\n",
      "  0.  0.  0.  0.  0.  0.  1.  0.  0. -0.  0.  0.  0.  0. -0.  0.  0.  1.\n",
      "  1.  0.  0.  0.  0.  0. -0.  0.  0.  0.  0.  0.  1.  0.  0.  0.  0.  0.\n",
      " -0.  0.  1.  0.  0.  0.  1.  0.  0.  0.  0.  0.  0.  0.  0. -0.  0.  1.\n",
      "  0.  0.  0.  0.  0. -0.  0.  0.  0.  0.  0.  0.  1.  0.  0.  0.  0.  0.\n",
      "  0.  0.  0.  0.  0.  0.  0.  0.  0.  0.  1. -0.  1.  0.  0.  0.  0.  0.\n",
      "  0.  0.  0.  0.  0.  0.  0.  0.  0.  0.  0.  0. -0.  0.  0.  0.  0.  1.\n",
      "  0.  0.  1.  0.  0.  0.  0.  0.  0.  0.  0.  1.  0.  0.  0.  0.  0.  0.\n",
      "  0.  0.  0.  0.  0.  0.  0.  0.  0.  0.  0.  0.  0.  0.  0.  0.  0.  0.\n",
      "  1.  0.  0.  0. -0.  0.  0.  0.  0.  0.  0.  0.  1.  0.  0.  0.  0.  0.\n",
      "  1.  0.  0.  0.  0.  0.  0.  0.  0.  0.  0.  1. -0.  0.  0.  0.  0.  0.\n",
      "  0.  0.  0.  0.  1.  0.  0.  0.  0.  0.  0.  0.  0.  0.  0.  0.  0.  1.\n",
      "  0.  0.  0. -0.  0.  0.  0.  0.  0.  0.  0. -0.  1.  0.  0.  0.  0.  0.\n",
      " -0.  0.  0.  1.  0.  0.  0.  0.  1.  0.  0.  0.  1.  0.  0.  0.  0.  0.\n",
      "  1.  0.  0.  0.  0. -0.  0.  0.  1.  0.  0.  0.  0.  0.  0.  0. -0.  1.\n",
      "  0.  0.  0.  0.  0. -0.  0.  0.  0.  0.  0.  0.  0.  0.  0.  0.  0.  0.\n",
      "  0.  0.  0.  0.  0.  0.  0.  0. -0.  0.  0.  0.  1.  0. -0.  0.  0.  0.\n",
      "  0.  0.  0.  0.  0.  0.  0.  0.  0. -0.  1.  0.  0.  0.  0.  0.  0.  1.\n",
      " -0.  0.  1.  0.  0.  0.  1.  0.  0.  0.  0. -0.  0.  0.  1.  0.  0.  0.\n",
      "  0.  0.  0.  0.  0.  1.  0.  0.  0.  0.  0.  0.  1.  0.  0.  0.  0.  0.\n",
      "  1.  0.  0. -0.  0.  0. -0.  0.  0.  0.  0. -0.  0.  0.  0.  0.  0.  0.]\n"
     ]
    },
    {
     "data": {
      "text/plain": [
       "{'NV0': [None, None, 'C6', 'C1', 'C1', None, 'C3'],\n",
       " 'NV1': ['C1', 'C6', None, 'C1', 'C3', None, None],\n",
       " 'NV2': ['C1', None, None, None, None, 'C6', None],\n",
       " 'NV3': [None, 'C4', 'C1', 'C6', None, 'C1', 'C3'],\n",
       " 'NV4': ['C1', 'C5', None, None, 'C3', 'C6', 'C1'],\n",
       " 'NV5': [None, None, 'C1', None, 'C6', 'C1', None],\n",
       " 'NV6': ['C1', None, None, 'C6', None, 'C1', None],\n",
       " 'NV7': [None, 'C1', 'C1', 'C4', None, 'C6', None],\n",
       " 'NV8': ['C4', 'C1', 'C1', None, None, 'C6', None],\n",
       " 'NV9': [None, 'C1', 'C5', 'C3', 'C1', None, 'C6'],\n",
       " 'NV10': ['C1', 'C1', 'C6', 'C3', None, None, 'C4'],\n",
       " 'NV11': ['C6', None, 'C1', None, None, 'C1', 'C5'],\n",
       " 'NV12': [None, None, None, None, 'C1', 'C6', 'C1'],\n",
       " 'NV13': [None, 'C1', 'C3', 'C1', 'C6', None, None],\n",
       " 'NV14': ['C1', None, 'C5', 'C1', None, None, 'C6'],\n",
       " 'NV15': ['C3', 'C6', None, None, None, None, 'C1'],\n",
       " 'NV16': [None, 'C1', 'C1', 'C6', None, 'C5', None],\n",
       " 'NV17': ['C6', None, None, 'C1', 'C4', 'C3', 'C1'],\n",
       " 'NV18': ['C1', 'C3', 'C6', None, None, None, None],\n",
       " 'NV19': [None, 'C1', None, 'C5', 'C6', 'C3', 'C1'],\n",
       " 'NV20': ['C3', 'C6', None, 'C1', 'C1', None, None]}"
      ]
     },
     "execution_count": 59,
     "metadata": {},
     "output_type": "execute_result"
    }
   ],
   "source": [
    "task3.solve(shifts_dict, day_dict, merge)"
   ]
  },
  {
   "cell_type": "code",
   "execution_count": 60,
   "metadata": {},
   "outputs": [
    {
     "name": "stdout",
     "output_type": "stream",
     "text": [
      "        message: Optimization terminated successfully. (HiGHS Status 7: Optimal)\n",
      "        success: True\n",
      "         status: 0\n",
      "            fun: 83.0\n",
      "              x: [ 0.000e+00  0.000e+00 ... -0.000e+00  1.000e+00]\n",
      "            nit: -1\n",
      "          lower:  residual: [ 0.000e+00  0.000e+00 ... -0.000e+00\n",
      "                              1.000e+00]\n",
      "                 marginals: [ 0.000e+00  0.000e+00 ...  0.000e+00\n",
      "                              0.000e+00]\n",
      "          upper:  residual: [       inf        inf ...        inf\n",
      "                                    inf]\n",
      "                 marginals: [ 0.000e+00  0.000e+00 ...  0.000e+00\n",
      "                              0.000e+00]\n",
      "          eqlin:  residual: []\n",
      "                 marginals: []\n",
      "        ineqlin:  residual: [ 0.000e+00  0.000e+00 ... -7.772e-16\n",
      "                             -3.331e-16]\n",
      "                 marginals: [ 0.000e+00  0.000e+00 ...  0.000e+00\n",
      "                              0.000e+00]\n",
      " mip_node_count: 1\n",
      " mip_dual_bound: 83.0\n",
      "        mip_gap: 0.0\n",
      "[ 0.  0.  0.  0.  0.  1.  1.  0.  0.  0.  0. -0.  0.  0.  0.  1.  0.  0.\n",
      "  0.  0.  1.  0.  0.  0.  0.  0.  0.  0.  0. -0.  1.  0. -0.  0.  0.  0.\n",
      " -0.  0.  0.  0.  0.  0.  1.  0. -0.  0.  0.  0.  1.  0.  0.  0.  0.  0.\n",
      "  0.  0.  0.  1.  0.  0.  0.  0.  0. -0.  0.  1.  0.  0.  0.  0.  0. -0.\n",
      " -0.  0.  0.  0.  0.  0.  0.  0.  0.  0.  0.  0.  0.  0.  0.  0.  0.  0.\n",
      "  1.  0.  0.  0.  0.  0.  0.  0.  0.  0.  0.  0.  0.  0.  0.  1.  0. -0.\n",
      " -0.  0.  0.  0.  0.  1.  1.  0.  0.  0.  0.  0.  0.  0.  0.  0.  0.  0.\n",
      "  0.  0.  0. -0.  0. -0.  0.  0.  0.  0.  1.  0.  0.  0.  0.  0. -0.  1.\n",
      "  0.  0.  0.  0.  0.  0.  0.  0.  0.  0.  0.  0.  1.  0.  0.  0. -0.  0.\n",
      "  1.  0.  0.  0.  0.  0.  1.  0. -0.  0.  0.  0.  0.  0.  0.  0.  0.  0.\n",
      "  0.  0.  0.  0.  0.  0. -0.  0.  0.  0.  0.  0.  0.  0.  0.  0.  0. -0.\n",
      "  0.  0. -0.  0.  0.  1.  1.  0.  0.  0.  0.  0.  1.  0.  0.  0. -0. -0.\n",
      "  0.  0.  0.  0.  0.  0. -0.  0.  0.  0.  0.  0.  0.  0.  0. -0.  1.  0.\n",
      "  0.  0.  0.  0.  0.  0.  1.  0.  0.  0.  0.  0.  0.  0.  0. -0.  0.  1.\n",
      "  0.  0.  1.  0.  0.  0.  0.  0.  0.  0.  0.  0.  1.  0.  0.  0.  0. -0.\n",
      "  0.  0.  0. -0.  0.  1.  1.  0.  0. -0.  0.  0.  0.  0.  0.  0.  0.  0.\n",
      " -0.  0.  0.  0.  0.  0.  1.  0.  0.  0.  0.  0. -0.  0.  0.  0.  0.  0.\n",
      "  0.  0.  0.  0.  0.  1.  0.  0.  0.  0.  0.  0. -0.  0.  0.  0.  0.  0.\n",
      "  1.  0.  0. -0.  0.  0.  0.  0.  0.  0.  0.  0.  1.  0.  0.  0.  0.  0.\n",
      "  0.  0.  0.  0.  0.  1.  1.  0.  0.  0.  0.  0. -0.  0.  0.  0.  0.  0.\n",
      "  0.  0.  0.  0.  0.  0.  0.  0.  0.  0.  0. -0.  0.  0.  0.  0.  0.  0.\n",
      "  0.  0.  0.  0.  0.  0.  0.  0.  0.  0.  0. -0.  1.  0.  0. -0.  0.  0.\n",
      " -0.  0.  0.  0.  0.  0.  0.  0.  0. -0.  0.  1.  0.  0.  0.  1.  0. -0.\n",
      "  1.  0.  0.  0.  0.  0.  1.  0.  0.  0. -0.  0.  0.  0.  0.  0.  0.  0.\n",
      "  0.  0.  0.  0.  0.  0.  0.  0. -0.  0.  0.  1.  1.  0.  0.  0.  0. -0.\n",
      "  0.  0.  0.  0.  0. -0.  0.  0.  1.  0.  0.  0.  0.  0.  0.  1.  0. -0.\n",
      "  0.  0. -0.  0.  0.  1.  1.  0.  0.  0.  0.  0.  0.  0.  0.  0.  0.  0.\n",
      "  0.  0.  0.  0.  0. -0. -0.  0.  0.  0.  0.  0.  1.  0.  0.  0. -0.  0.\n",
      "  0.  0.  0.  0.  0.  0.  0.  0.  0.  0.  0.  1.  0.  0.  0.  0.  0.  0.\n",
      "  1.  0.  0. -0.  0.  0. -0.  0.  0.  0.  0. -0.  1.  0.  0.  0.  0.  0.\n",
      "  0.  0.  0.  0.  0.  0. -0.  0.  0.  0.  0. -0.  1.  0.  0.  0.  0.  0.\n",
      "  0.  0.  0.  0.  0.  0.  1.  0.  0.  0.  0.  0.  0.  0.  0.  0.  0.  1.\n",
      "  0.  0.  1.  0.  0. -0.  0.  0.  0.  0.  0.  0. -0.  0.  0.  0.  0.  1.\n",
      "  0.  0.  0.  0.  0.  0.  0.  0.  0.  0.  0. -0.  1.  0.  0.  0.  0. -0.\n",
      "  0.  0. -0.  1.  0.  0.  1.  0.  0.  0.  0.  0.  0.  0.  0.  0.  1.  0.\n",
      "  0.  0.  0.  0.  1. -0.  1.  0.  0.  0.  0.  0.  0.  0.  0.  0.  0.  1.\n",
      "  0.  0.  0.  1.  0. -0.  1.  0.  0. -0.  0.  0.  0.  0.  0.  0.  0.  0.\n",
      " -0.  0.  0.  0.  0.  0.  0.  0.  0.  0.  0.  0.  0.  0.  0.  0.  1.  0.\n",
      "  0.  0.  0.  0.  0.  0.  0.  0.  0.  0. -0. -0.  1.  0.  0.  0.  0. -0.\n",
      " -0.  0.  0.  0.  0.  1.  0.  0.  0.  0.  0.  0.  0.  0.  0.  0.  0. -0.\n",
      "  1.  0.  0.  0.  0.  0.  1.  0.  0.  0.  0.  0.  0.  0.  0.  0. -0.  1.\n",
      "  0.  0.  0.  0.  0.  0.  0.  0.  1.  0.  0.  0. -0.  0.  0.  1.  0.  0.\n",
      "  0.  0.  0.  0.  0.  1.  0.  0.  0.  0.  0.  0.  0.  0. -0. -0.  0.  0.\n",
      "  1.  0.  0. -0.  0.  0.  0.  0.  1.  0.  0.  0.  0.  0.  0.  0.  0.  0.\n",
      " -0.  0.  0.  1.  0. -0. -0.  0.  0.  0.  0.  0.  0.  0.  0. -0. -0.  1.\n",
      "  0.  0.  1.  0.  0.  0.  1.  0.  0.  0.  0. -0.  0.  0.  0.  0.  1.  0.\n",
      "  0.  0.  0.  0.  0.  0.  1.  0.  0.  0.  0. -0.  0.  0.  0.  0.  0.  0.\n",
      "  0.  0.  1.  0.  0. -0.  1.  0.  0.  0.  0.  0.  0.  0.  0.  0.  0.  0.\n",
      " -0.  0.  0.  0.  0.  0.  0.  0.  0.  0.  0.  0.  0.  0.  0.  0. -0.  1.]\n"
     ]
    },
    {
     "data": {
      "text/plain": [
       "{'NV0': ['C6', 'C1', 'C4', 'C3', None, 'C1', None],\n",
       " 'NV1': ['C1', 'C1', 'C4', 'C6', None, None, None],\n",
       " 'NV2': [None, 'C1', None, 'C4', 'C6', 'C1', None],\n",
       " 'NV3': [None, 'C5', 'C6', None, None, 'C1', 'C1'],\n",
       " 'NV4': ['C1', None, None, None, None, 'C6', 'C1'],\n",
       " 'NV5': ['C1', None, None, 'C5', None, 'C1', 'C6'],\n",
       " 'NV6': ['C3', None, 'C1', 'C6', 'C1', None, None],\n",
       " 'NV7': ['C1', None, 'C6', None, None, 'C1', None],\n",
       " 'NV8': ['C1', 'C6', 'C1', None, None, None, None],\n",
       " 'NV9': [None, None, 'C1', None, 'C6', 'C4', 'C1'],\n",
       " 'NV10': ['C1', None, None, 'C6', 'C1', None, 'C3'],\n",
       " 'NV11': ['C4', 'C6', 'C1', None, None, None, 'C1'],\n",
       " 'NV12': [None, 'C6', None, 'C1', None, 'C1', None],\n",
       " 'NV13': [None, 'C1', None, 'C1', 'C6', 'C3', None],\n",
       " 'NV14': ['C6', None, None, 'C1', 'C4', 'C1', 'C5'],\n",
       " 'NV15': ['C5', 'C1', 'C6', 'C4', 'C1', None, None],\n",
       " 'NV16': [None, 'C5', None, None, 'C1', 'C6', None],\n",
       " 'NV17': [None, 'C1', 'C1', 'C6', None, 'C3', 'C4'],\n",
       " 'NV18': ['C6', None, None, 'C1', 'C3', None, 'C4'],\n",
       " 'NV19': [None, 'C6', 'C3', 'C1', 'C5', None, 'C1'],\n",
       " 'NV20': [None, 'C3', 'C1', None, None, None, 'C6']}"
      ]
     },
     "execution_count": 60,
     "metadata": {},
     "output_type": "execute_result"
    }
   ],
   "source": [
    "from solutions import task3_mod\n",
    "\n",
    "new_shift_dict = shifts_dict.copy()\n",
    "new_shift_dict['C0'] = [0] * len(list(shifts_dict.values())[0])\n",
    "\n",
    "task3_mod.solve(shifts_dict, day_dict, merge)"
   ]
  },
  {
   "cell_type": "code",
   "execution_count": null,
   "metadata": {},
   "outputs": [],
   "source": []
  }
 ],
 "metadata": {
  "kernelspec": {
   "display_name": "Python 3",
   "language": "python",
   "name": "python3"
  },
  "language_info": {
   "codemirror_mode": {
    "name": "ipython",
    "version": 3
   },
   "file_extension": ".py",
   "mimetype": "text/x-python",
   "name": "python",
   "nbconvert_exporter": "python",
   "pygments_lexer": "ipython3",
   "version": "3.10.1"
  },
  "orig_nbformat": 4
 },
 "nbformat": 4,
 "nbformat_minor": 2
}
