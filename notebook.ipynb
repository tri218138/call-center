{
 "cells": [
  {
   "attachments": {},
   "cell_type": "markdown",
   "metadata": {},
   "source": [
    "# Prequesite"
   ]
  },
  {
   "cell_type": "code",
   "execution_count": 23,
   "metadata": {},
   "outputs": [],
   "source": [
    "! python -m venv .venv\n",
    "! source .venv/bin/activate"
   ]
  },
  {
   "cell_type": "code",
   "execution_count": 24,
   "metadata": {},
   "outputs": [
    {
     "name": "stdout",
     "output_type": "stream",
     "text": [
      "Requirement already satisfied: pip in ./.venv/lib/python3.10/site-packages (23.1.2)\n",
      "Requirement already satisfied: ipykernel in ./.venv/lib/python3.10/site-packages (6.22.0)\n",
      "Requirement already satisfied: appnope in ./.venv/lib/python3.10/site-packages (from ipykernel) (0.1.3)\n",
      "Requirement already satisfied: comm>=0.1.1 in ./.venv/lib/python3.10/site-packages (from ipykernel) (0.1.3)\n",
      "Requirement already satisfied: debugpy>=1.6.5 in ./.venv/lib/python3.10/site-packages (from ipykernel) (1.6.7)\n",
      "Requirement already satisfied: ipython>=7.23.1 in ./.venv/lib/python3.10/site-packages (from ipykernel) (8.12.0)\n",
      "Requirement already satisfied: jupyter-client>=6.1.12 in ./.venv/lib/python3.10/site-packages (from ipykernel) (8.2.0)\n",
      "Requirement already satisfied: jupyter-core!=5.0.*,>=4.12 in ./.venv/lib/python3.10/site-packages (from ipykernel) (5.3.0)\n",
      "Requirement already satisfied: matplotlib-inline>=0.1 in ./.venv/lib/python3.10/site-packages (from ipykernel) (0.1.6)\n",
      "Requirement already satisfied: nest-asyncio in ./.venv/lib/python3.10/site-packages (from ipykernel) (1.5.6)\n",
      "Requirement already satisfied: packaging in ./.venv/lib/python3.10/site-packages (from ipykernel) (23.1)\n",
      "Requirement already satisfied: psutil in ./.venv/lib/python3.10/site-packages (from ipykernel) (5.9.5)\n",
      "Requirement already satisfied: pyzmq>=20 in ./.venv/lib/python3.10/site-packages (from ipykernel) (25.0.2)\n",
      "Requirement already satisfied: tornado>=6.1 in ./.venv/lib/python3.10/site-packages (from ipykernel) (6.3.1)\n",
      "Requirement already satisfied: traitlets>=5.4.0 in ./.venv/lib/python3.10/site-packages (from ipykernel) (5.9.0)\n",
      "Requirement already satisfied: backcall in ./.venv/lib/python3.10/site-packages (from ipython>=7.23.1->ipykernel) (0.2.0)\n",
      "Requirement already satisfied: decorator in ./.venv/lib/python3.10/site-packages (from ipython>=7.23.1->ipykernel) (5.1.1)\n",
      "Requirement already satisfied: jedi>=0.16 in ./.venv/lib/python3.10/site-packages (from ipython>=7.23.1->ipykernel) (0.18.2)\n",
      "Requirement already satisfied: pickleshare in ./.venv/lib/python3.10/site-packages (from ipython>=7.23.1->ipykernel) (0.7.5)\n",
      "Requirement already satisfied: prompt-toolkit!=3.0.37,<3.1.0,>=3.0.30 in ./.venv/lib/python3.10/site-packages (from ipython>=7.23.1->ipykernel) (3.0.38)\n",
      "Requirement already satisfied: pygments>=2.4.0 in ./.venv/lib/python3.10/site-packages (from ipython>=7.23.1->ipykernel) (2.15.1)\n",
      "Requirement already satisfied: stack-data in ./.venv/lib/python3.10/site-packages (from ipython>=7.23.1->ipykernel) (0.6.2)\n",
      "Requirement already satisfied: pexpect>4.3 in ./.venv/lib/python3.10/site-packages (from ipython>=7.23.1->ipykernel) (4.8.0)\n",
      "Requirement already satisfied: python-dateutil>=2.8.2 in ./.venv/lib/python3.10/site-packages (from jupyter-client>=6.1.12->ipykernel) (2.8.2)\n",
      "Requirement already satisfied: platformdirs>=2.5 in ./.venv/lib/python3.10/site-packages (from jupyter-core!=5.0.*,>=4.12->ipykernel) (3.2.0)\n",
      "Requirement already satisfied: parso<0.9.0,>=0.8.0 in ./.venv/lib/python3.10/site-packages (from jedi>=0.16->ipython>=7.23.1->ipykernel) (0.8.3)\n",
      "Requirement already satisfied: ptyprocess>=0.5 in ./.venv/lib/python3.10/site-packages (from pexpect>4.3->ipython>=7.23.1->ipykernel) (0.7.0)\n",
      "Requirement already satisfied: wcwidth in ./.venv/lib/python3.10/site-packages (from prompt-toolkit!=3.0.37,<3.1.0,>=3.0.30->ipython>=7.23.1->ipykernel) (0.2.6)\n",
      "Requirement already satisfied: six>=1.5 in ./.venv/lib/python3.10/site-packages (from python-dateutil>=2.8.2->jupyter-client>=6.1.12->ipykernel) (1.16.0)\n",
      "Requirement already satisfied: executing>=1.2.0 in ./.venv/lib/python3.10/site-packages (from stack-data->ipython>=7.23.1->ipykernel) (1.2.0)\n",
      "Requirement already satisfied: asttokens>=2.1.0 in ./.venv/lib/python3.10/site-packages (from stack-data->ipython>=7.23.1->ipykernel) (2.2.1)\n",
      "Requirement already satisfied: pure-eval in ./.venv/lib/python3.10/site-packages (from stack-data->ipython>=7.23.1->ipykernel) (0.2.2)\n",
      "Installed kernelspec .venv in /usr/local/share/jupyter/kernels/.venv\n",
      "Requirement already satisfied: numpy in ./.venv/lib/python3.10/site-packages (1.24.3)\n",
      "Requirement already satisfied: pandas in ./.venv/lib/python3.10/site-packages (2.0.1)\n",
      "Requirement already satisfied: python-dateutil>=2.8.2 in ./.venv/lib/python3.10/site-packages (from pandas) (2.8.2)\n",
      "Requirement already satisfied: pytz>=2020.1 in ./.venv/lib/python3.10/site-packages (from pandas) (2023.3)\n",
      "Requirement already satisfied: tzdata>=2022.1 in ./.venv/lib/python3.10/site-packages (from pandas) (2023.3)\n",
      "Requirement already satisfied: six>=1.5 in ./.venv/lib/python3.10/site-packages (from python-dateutil>=2.8.2->pandas) (1.16.0)\n"
     ]
    }
   ],
   "source": [
    "! pip install --upgrade pip\n",
    "! pip install ipykernel\n",
    "! python -m ipykernel install --name=.venv\n",
    "! pip install numpy pandas\n",
    "! pip freeze > requirements.txt"
   ]
  },
  {
   "cell_type": "code",
   "execution_count": 25,
   "metadata": {},
   "outputs": [],
   "source": [
    "from pathlib import Path\n",
    "from solutions.task1_domain import ReadJson, CSRInquiries, ShiftsDetail\n",
    "from solutions import task1, task2, task3\n",
    "import numpy as np\n",
    "from functools import reduce\n",
    "\n",
    "read_json = ReadJson(Path(\"data/json\"))\n",
    "shifts_dict = read_json.read_shifts()\n",
    "day_dict = read_json.read_days()"
   ]
  },
  {
   "cell_type": "code",
   "execution_count": 26,
   "metadata": {},
   "outputs": [
    {
     "data": {
      "text/plain": [
       "{'NV1': ['C1', 'C1', 'C1', 'C1', 'C1', 'C1', 'C1'],\n",
       " 'NV2': ['C1', 'C1', 'C1', 'C1', 'C1', 'C1', 'C1'],\n",
       " 'NV3': ['C1', 'C1', 'C1', 'C1', 'C1', 'C1', 'C1'],\n",
       " 'NV4': ['C1', 'C1', 'C1', 'C1', 'C1', 'C1', 'C1'],\n",
       " 'NV5': ['C1', 'C1', 'C1', 'C1', 'C3', 'C1', 'C1'],\n",
       " 'NV6': ['C1', 'C1', 'C1', 'C1', 'C3', 'C4', 'C4'],\n",
       " 'NV7': ['C1', 'C1', 'C3', 'C4', 'C4', 'C4', 'C4'],\n",
       " 'NV8': ['C3', 'C3', 'C4', 'C4', 'C6', 'C4', 'C4'],\n",
       " 'NV9': ['C4', 'C3', 'C4', 'C4', 'C6', 'C6', 'C5'],\n",
       " 'NV10': ['C4', 'C4', 'C6', 'C5', 'C6', 'C6', 'C6'],\n",
       " 'NV11': ['C6', 'C6', 'C6', 'C6', None, 'C6', 'C6'],\n",
       " 'NV12': ['C6', 'C6', 'C6', 'C6', None, 'C6', None],\n",
       " 'NV13': [None, 'C6', None, 'C6', None, None, None]}"
      ]
     },
     "execution_count": 26,
     "metadata": {},
     "output_type": "execute_result"
    }
   ],
   "source": [
    "schedule = task1.solve(shifts_dict, day_dict)\n",
    "schedule"
   ]
  },
  {
   "cell_type": "code",
   "execution_count": 27,
   "metadata": {},
   "outputs": [
    {
     "data": {
      "text/plain": [
       "{'NV1': [None, 'C1', 'C1', 'C1', 'C1', 'C1', None],\n",
       " 'NV2': [None, 'C1', 'C1', 'C1', 'C1', 'C1', 'C1'],\n",
       " 'NV3': ['C1', None, 'C1', 'C1', 'C1', 'C1', 'C1'],\n",
       " 'NV4': ['C1', 'C1', None, 'C1', 'C1', 'C1', 'C1'],\n",
       " 'NV5': ['C1', 'C1', None, 'C1', 'C3', 'C1', 'C1'],\n",
       " 'NV6': ['C1', 'C1', 'C1', None, 'C3', 'C4', 'C1'],\n",
       " 'NV7': ['C1', 'C1', 'C1', 'C1', None, 'C4', 'C4'],\n",
       " 'NV8': ['C1', 'C1', 'C1', 'C4', None, 'C4', 'C4'],\n",
       " 'NV9': ['C1', 'C3', 'C3', 'C4', None, 'C6', 'C4'],\n",
       " 'NV10': ['C3', 'C3', 'C4', 'C4', None, 'C6', 'C5'],\n",
       " 'NV11': ['C4', 'C4', 'C4', 'C5', 'C4', None, 'C6'],\n",
       " 'NV12': ['C4', 'C6', 'C6', 'C6', 'C6', None, 'C6'],\n",
       " 'NV13': ['C6', 'C6', 'C6', 'C6', 'C6', 'C6', None],\n",
       " 'NV14': ['C6', 'C6', 'C6', 'C6', 'C6', 'C6', None]}"
      ]
     },
     "execution_count": 27,
     "metadata": {},
     "output_type": "execute_result"
    }
   ],
   "source": [
    "schedule = task2.solve(schedule)\n",
    "schedule"
   ]
  },
  {
   "cell_type": "code",
   "execution_count": 28,
   "metadata": {},
   "outputs": [
    {
     "name": "stdout",
     "output_type": "stream",
     "text": [
      "        message: Optimization terminated successfully. (HiGHS Status 7: Optimal)\n",
      "        success: True\n",
      "         status: 0\n",
      "            fun: 83.0\n",
      "              x: [ 0.000e+00  0.000e+00 ...  1.000e+00  0.000e+00]\n",
      "            nit: -1\n",
      "          lower:  residual: [ 0.000e+00  0.000e+00 ...  1.000e+00\n",
      "                              0.000e+00]\n",
      "                 marginals: [ 0.000e+00  0.000e+00 ...  0.000e+00\n",
      "                              0.000e+00]\n",
      "          upper:  residual: [       inf        inf ...        inf\n",
      "                                    inf]\n",
      "                 marginals: [ 0.000e+00  0.000e+00 ...  0.000e+00\n",
      "                              0.000e+00]\n",
      "          eqlin:  residual: []\n",
      "                 marginals: []\n",
      "        ineqlin:  residual: [ 0.000e+00  0.000e+00 ...  1.000e+00\n",
      "                              1.000e+00]\n",
      "                 marginals: [ 0.000e+00  0.000e+00 ...  0.000e+00\n",
      "                              0.000e+00]\n",
      " mip_node_count: 1\n",
      " mip_dual_bound: 83.0\n",
      "        mip_gap: 0.0\n",
      "[0. 0. 0. 0. 0. 1. 1. 0. 0. 0. 0. 0. 0. 0. 0. 0. 0. 1. 1. 0. 0. 0. 0. 0.\n",
      " 0. 0. 0. 0. 0. 0. 0. 0. 0. 1. 0. 0. 1. 0. 0. 0. 0. 0. 1. 0. 0. 0. 0. 0.\n",
      " 0. 0. 0. 1. 0. 0. 1. 0. 0. 0. 0. 0. 0. 0. 0. 0. 1. 0. 0. 0. 0. 0. 0. 0.\n",
      " 0. 0. 0. 0. 0. 1. 1. 0. 0. 0. 0. 0. 0. 0. 0. 0. 0. 1. 0. 0. 0. 0. 0. 0.\n",
      " 1. 0. 0. 0. 0. 0. 0. 0. 0. 1. 0. 0. 0. 0. 0. 0. 0. 0. 1. 0. 0. 0. 0. 0.\n",
      " 1. 0. 0. 0. 0. 0. 0. 0. 0. 0. 1. 0. 1. 0. 0. 0. 0. 0. 0. 0. 0. 0. 0. 0.\n",
      " 1. 0. 0. 0. 0. 0. 0. 0. 1. 0. 0. 0. 0. 0. 0. 0. 0. 1. 0. 0. 0. 1. 0. 0.\n",
      " 0. 0. 0. 0. 0. 0. 1. 0. 0. 0. 0. 0. 0. 0. 0. 0. 0. 1. 1. 0. 0. 0. 0. 0.\n",
      " 0. 0. 0. 0. 0. 1. 1. 0. 0. 0. 0. 0. 0. 0. 0. 1. 0. 0. 0. 0. 0. 0. 0. 0.\n",
      " 1. 0. 0. 0. 0. 0. 0. 0. 0. 1. 0. 0. 1. 0. 0. 0. 0. 0. 0. 0. 0. 0. 0. 1.\n",
      " 0. 0. 0. 0. 0. 1. 1. 0. 0. 0. 0. 0. 1. 0. 0. 0. 0. 0. 0. 0. 1. 0. 0. 0.\n",
      " 1. 0. 0. 0. 0. 0. 1. 0. 0. 0. 0. 0. 0. 0. 0. 0. 0. 1. 0. 0. 0. 1. 0. 0.\n",
      " 0. 0. 0. 0. 0. 0. 1. 0. 0. 0. 0. 0. 0. 0. 0. 0. 1. 0. 0. 0. 0. 1. 0. 0.\n",
      " 0. 0. 0. 0. 0. 1. 0. 0. 0. 0. 0. 0. 1. 0. 0. 0. 0. 0. 1. 0. 0. 0. 0. 0.\n",
      " 1. 0. 0. 0. 0. 0. 0. 0. 0. 0. 0. 1. 1. 0. 0. 0. 0. 0. 1. 0. 0. 0. 0. 0.\n",
      " 0. 0. 0. 0. 1. 0. 0. 0. 0. 0. 0. 0. 0. 0. 0. 1. 0. 0. 1. 0. 0. 0. 0. 0.\n",
      " 0. 0. 0. 0. 0. 1. 1. 0. 0. 0. 0. 0. 0. 0. 0. 0. 0. 0. 1. 0. 0. 0. 0. 0.\n",
      " 0. 0. 0. 1. 0. 0. 0. 0. 0. 0. 0. 1. 0. 0. 1. 0. 0. 0. 1. 0. 0. 0. 0. 0.\n",
      " 0. 0. 0. 0. 0. 1. 0. 0. 0. 1. 0. 0. 1. 0. 0. 0. 0. 0. 1. 0. 0. 0. 0. 0.\n",
      " 0. 0. 0. 0. 0. 0. 0. 0. 0. 1. 0. 0. 1. 0. 0. 0. 0. 0. 0. 0. 0. 0. 1. 0.\n",
      " 0. 0. 0. 0. 0. 1. 1. 0. 0. 0. 0. 0. 0. 0. 0. 0. 0. 0. 0. 0. 0. 0. 0. 1.\n",
      " 1. 0. 0. 0. 0. 0. 0. 0. 0. 0. 0. 1. 1. 0. 0. 0. 0. 0. 0. 0. 0. 1. 0. 0.\n",
      " 1. 0. 0. 0. 0. 0. 0. 0. 0. 0. 0. 1. 0. 0. 0. 0. 0. 0. 0. 0. 0. 0. 0. 1.\n",
      " 1. 0. 0. 0. 0. 0. 0. 0. 0. 0. 0. 0. 0. 0. 0. 0. 0. 1. 0. 0. 0. 1. 0. 0.\n",
      " 1. 0. 0. 0. 0. 0. 0. 0. 0. 0. 1. 0.]\n"
     ]
    },
    {
     "data": {
      "text/plain": [
       "{'NV1': ['C6', 'C1', 'C6', 'C1', None, 'C4', 'C1'],\n",
       " 'NV2': ['C1', 'C4', 'C1', 'C5', None, 'C6', 'C1'],\n",
       " 'NV3': ['C6', None, 'C1', 'C4', None, 'C1', 'C1'],\n",
       " 'NV4': ['C5', 'C1', None, 'C1', 'C3', 'C6', 'C4'],\n",
       " 'NV5': [None, 'C1', 'C6', 'C1', 'C6', 'C1', 'C4'],\n",
       " 'NV6': [None, 'C1', 'C4', 'C1', 'C6', 'C6', 'C1'],\n",
       " 'NV7': ['C1', 'C3', 'C1', 'C1', 'C6', 'C4', None],\n",
       " 'NV8': ['C1', 'C5', 'C4', 'C6', None, 'C1', 'C1'],\n",
       " 'NV9': ['C1', 'C6', 'C1', 'C1', 'C5', None, 'C4'],\n",
       " 'NV10': ['C1', 'C6', 'C1', None, 'C1', 'C4', 'C6'],\n",
       " 'NV11': ['C3', 'C1', 'C6', 'C4', 'C1', 'C1', None],\n",
       " 'NV12': ['C4', 'C1', 'C5', 'C6', 'C1', None, 'C6'],\n",
       " 'NV13': ['C1', 'C6', 'C1', 'C4', 'C1', 'C6', None],\n",
       " 'NV14': ['C6', 'C1', None, 'C6', 'C4', 'C1', 'C5']}"
      ]
     },
     "execution_count": 28,
     "metadata": {},
     "output_type": "execute_result"
    }
   ],
   "source": [
    "task3.solve(shifts_dict, day_dict, schedule)"
   ]
  },
  {
   "cell_type": "code",
   "execution_count": 10,
   "metadata": {},
   "outputs": [
    {
     "data": {
      "text/plain": [
       "{'Monday': [6, 9, 9, 8, 3, 3, 7, 8, 8, 5, 3, 3, 2],\n",
       " 'Tuesday': [6, 10, 7, 7, 3, 4, 7, 5, 9, 5, 3, 4, 3],\n",
       " 'Wednesday': [7, 9, 9, 6, 3, 4, 6, 8, 7, 4, 3, 3, 3],\n",
       " 'Thursday': [6, 9, 8, 6, 4, 4, 5, 8, 7, 5, 4, 3, 4],\n",
       " 'Friday': [6, 7, 8, 7, 3, 5, 6, 7, 6, 5, 3, 3, 3],\n",
       " 'Saturday': [6, 9, 9, 4, 3, 3, 4, 5, 5, 5, 3, 3, 2],\n",
       " 'Sunday': [5, 7, 6, 5, 4, 3, 4, 5, 6, 5, 3, 3, 3]}"
      ]
     },
     "execution_count": 10,
     "metadata": {},
     "output_type": "execute_result"
    }
   ],
   "source": [
    "day_dict"
   ]
  },
  {
   "cell_type": "code",
   "execution_count": 11,
   "metadata": {},
   "outputs": [
    {
     "data": {
      "text/plain": [
       "{'Monday': [3, 5, 5, 4, 2, 2, 4, 4, 4, 3, 2, 2, 1],\n",
       " 'Tuesday': [3, 5, 4, 4, 2, 2, 4, 3, 5, 3, 2, 2, 2],\n",
       " 'Wednesday': [4, 5, 5, 3, 2, 2, 3, 4, 4, 2, 2, 2, 2],\n",
       " 'Thursday': [3, 5, 4, 3, 2, 2, 3, 4, 4, 3, 2, 2, 2],\n",
       " 'Friday': [3, 4, 4, 4, 2, 3, 3, 4, 3, 3, 2, 2, 2],\n",
       " 'Saturday': [6, 9, 9, 4, 3, 3, 4, 5, 5, 5, 3, 3, 2]}"
      ]
     },
     "execution_count": 11,
     "metadata": {},
     "output_type": "execute_result"
    }
   ],
   "source": [
    "import math\n",
    "\n",
    "table_1 = {\n",
    "    name: [math.ceil(period / 2) if name != \"Saturday\" else period for period in shift]\n",
    "    for name, shift in day_dict.items() if name != \"Sunday\"\n",
    "}\n",
    "table_1"
   ]
  },
  {
   "cell_type": "code",
   "execution_count": 12,
   "metadata": {},
   "outputs": [
    {
     "data": {
      "text/plain": [
       "{'Monday': [3, 4, 4, 4, 1, 1, 3, 4, 4, 2, 1, 1, 1],\n",
       " 'Tuesday': [3, 5, 3, 3, 1, 2, 3, 2, 4, 2, 1, 2, 1],\n",
       " 'Wednesday': [3, 4, 4, 3, 1, 2, 3, 4, 3, 2, 1, 1, 1],\n",
       " 'Thursday': [3, 4, 4, 3, 2, 2, 2, 4, 3, 2, 2, 1, 2],\n",
       " 'Friday': [3, 3, 4, 3, 1, 2, 3, 3, 3, 2, 1, 1, 1],\n",
       " 'Sunday': [5, 7, 6, 5, 4, 3, 4, 5, 6, 5, 3, 3, 3]}"
      ]
     },
     "execution_count": 12,
     "metadata": {},
     "output_type": "execute_result"
    }
   ],
   "source": [
    "import math\n",
    "\n",
    "table_2 = {\n",
    "    name: [math.floor(period / 2) if name != \"Sunday\" else period for period in shift]\n",
    "    for name, shift in day_dict.items() if name != \"Saturday\"\n",
    "}\n",
    "table_2"
   ]
  },
  {
   "cell_type": "code",
   "execution_count": 13,
   "metadata": {},
   "outputs": [
    {
     "data": {
      "text/plain": [
       "{'NV1': ['C1', 'C1', 'C1', 'C1', 'C1', 'C1'],\n",
       " 'NV2': ['C1', 'C1', 'C1', 'C1', 'C1', 'C1'],\n",
       " 'NV3': ['C1', 'C1', 'C1', 'C1', 'C3', 'C1'],\n",
       " 'NV4': ['C1', 'C6', 'C3', 'C3', 'C4', 'C1'],\n",
       " 'NV5': ['C4', None, 'C4', 'C4', 'C6', 'C1'],\n",
       " 'NV6': ['C4', None, 'C6', 'C6', 'C6', 'C4'],\n",
       " 'NV7': ['C6', None, 'C6', 'C6', None, 'C4'],\n",
       " 'NV8': [None, None, None, None, None, 'C4'],\n",
       " 'NV9': [None, None, None, None, None, 'C6'],\n",
       " 'NV10': [None, None, None, None, None, 'C6'],\n",
       " 'NV11': [None, None, None, None, None, 'C6'],\n",
       " 'NV12': [None, None, None, None, None, 'C6']}"
      ]
     },
     "execution_count": 13,
     "metadata": {},
     "output_type": "execute_result"
    }
   ],
   "source": [
    "schedule_1 = task1.solve(shifts_dict, table_1)\n",
    "schedule_1"
   ]
  },
  {
   "cell_type": "code",
   "execution_count": 14,
   "metadata": {},
   "outputs": [
    {
     "data": {
      "text/plain": [
       "{'NV1': ['C1', 'C1', 'C1', 'C1', 'C1', 'C1'],\n",
       " 'NV2': ['C1', 'C1', 'C1', 'C1', 'C1', 'C1'],\n",
       " 'NV3': ['C2', 'C1', 'C4', 'C3', 'C3', 'C1'],\n",
       " 'NV4': ['C3', 'C1', 'C6', 'C4', 'C6', 'C1'],\n",
       " 'NV5': ['C6', 'C4', None, 'C6', None, 'C1'],\n",
       " 'NV6': [None, 'C6', None, 'C6', None, 'C4'],\n",
       " 'NV7': [None, None, None, None, None, 'C4'],\n",
       " 'NV8': [None, None, None, None, None, 'C4'],\n",
       " 'NV9': [None, None, None, None, None, 'C5'],\n",
       " 'NV10': [None, None, None, None, None, 'C6'],\n",
       " 'NV11': [None, None, None, None, None, 'C6']}"
      ]
     },
     "execution_count": 14,
     "metadata": {},
     "output_type": "execute_result"
    }
   ],
   "source": [
    "schedule_2 = task1.solve(shifts_dict, table_2)\n",
    "schedule_2"
   ]
  },
  {
   "cell_type": "code",
   "execution_count": 15,
   "metadata": {},
   "outputs": [
    {
     "data": {
      "text/plain": [
       "{'NV1': [None, None, 'C1', 'C1', None, 'C1'],\n",
       " 'NV2': [None, 'C1', None, 'C1', None, 'C1'],\n",
       " 'NV3': [None, 'C1', None, 'C1', None, 'C1'],\n",
       " 'NV4': [None, 'C1', None, 'C3', None, 'C1'],\n",
       " 'NV5': [None, 'C6', None, 'C4', None, 'C1'],\n",
       " 'NV6': ['C1', None, None, 'C6', 'C1', 'C4'],\n",
       " 'NV7': ['C1', None, 'C1', None, 'C1', 'C4'],\n",
       " 'NV8': ['C1', None, 'C1', None, 'C3', 'C4'],\n",
       " 'NV9': ['C1', None, 'C3', None, 'C4', 'C6'],\n",
       " 'NV10': ['C4', None, 'C4', None, 'C6', 'C6'],\n",
       " 'NV11': ['C4', None, 'C6', None, 'C6', 'C6'],\n",
       " 'NV12': ['C6', None, 'C6', 'C6', None, 'C6']}"
      ]
     },
     "execution_count": 15,
     "metadata": {},
     "output_type": "execute_result"
    }
   ],
   "source": [
    "schedule_1 = task2.solve(schedule_1)\n",
    "schedule_1"
   ]
  },
  {
   "cell_type": "code",
   "execution_count": 16,
   "metadata": {},
   "outputs": [
    {
     "data": {
      "text/plain": [
       "{'NV1': [None, 'C1', None, None, 'C1', 'C1'],\n",
       " 'NV2': [None, 'C1', None, 'C1', None, 'C1'],\n",
       " 'NV3': [None, 'C1', None, 'C1', None, 'C1'],\n",
       " 'NV4': [None, 'C1', None, 'C3', None, 'C1'],\n",
       " 'NV5': [None, 'C4', None, 'C4', None, 'C1'],\n",
       " 'NV6': [None, 'C6', None, 'C6', None, 'C4'],\n",
       " 'NV7': ['C1', None, None, 'C6', None, 'C4'],\n",
       " 'NV8': ['C1', None, 'C1', None, None, 'C4'],\n",
       " 'NV9': ['C2', None, 'C1', None, 'C1', 'C5'],\n",
       " 'NV10': ['C3', None, 'C4', None, 'C3', 'C6'],\n",
       " 'NV11': ['C6', None, 'C6', None, 'C6', 'C6']}"
      ]
     },
     "execution_count": 16,
     "metadata": {},
     "output_type": "execute_result"
    }
   ],
   "source": [
    "schedule_2 = task2.solve(schedule_2)\n",
    "schedule_2"
   ]
  },
  {
   "cell_type": "code",
   "execution_count": 17,
   "metadata": {},
   "outputs": [
    {
     "name": "stdout",
     "output_type": "stream",
     "text": [
      "        message: Optimization terminated successfully. (HiGHS Status 7: Optimal)\n",
      "        success: True\n",
      "         status: 0\n",
      "            fun: 46.0\n",
      "              x: [ 1.000e+00  0.000e+00 ...  0.000e+00  0.000e+00]\n",
      "            nit: -1\n",
      "          lower:  residual: [ 1.000e+00  0.000e+00 ...  0.000e+00\n",
      "                              0.000e+00]\n",
      "                 marginals: [ 0.000e+00  0.000e+00 ...  0.000e+00\n",
      "                              0.000e+00]\n",
      "          upper:  residual: [       inf        inf ...        inf\n",
      "                                    inf]\n",
      "                 marginals: [ 0.000e+00  0.000e+00 ...  0.000e+00\n",
      "                              0.000e+00]\n",
      "          eqlin:  residual: []\n",
      "                 marginals: []\n",
      "        ineqlin:  residual: [ 0.000e+00  1.000e+00 ...  0.000e+00\n",
      "                              0.000e+00]\n",
      "                 marginals: [ 0.000e+00  0.000e+00 ...  0.000e+00\n",
      "                              0.000e+00]\n",
      " mip_node_count: 1\n",
      " mip_dual_bound: 46.0\n",
      "        mip_gap: 0.0\n",
      "[1. 0. 0. 0. 0. 0. 0. 0. 0. 0. 0. 0. 0. 0. 0. 0. 0. 1. 1. 0. 0. 0. 0. 0.\n",
      " 0. 0. 0. 0. 0. 0. 0. 0. 0. 1. 0. 0. 0. 0. 1. 0. 0. 0. 0. 0. 0. 0. 0. 0.\n",
      " 1. 0. 0. 0. 0. 0. 0. 0. 0. 0. 0. 1. 0. 0. 0. 0. 0. 0. 1. 0. 0. 0. 0. 0.\n",
      " 0. 0. 0. 0. 0. 0. 0. 0. 0. 0. 0. 1. 1. 0. 0. 0. 0. 0. 0. 0. 0. 0. 0. 0.\n",
      " 0. 0. 0. 0. 0. 0. 1. 0. 0. 0. 0. 0. 0. 0. 1. 0. 0. 0. 1. 0. 0. 0. 0. 0.\n",
      " 0. 0. 0. 0. 0. 0. 0. 0. 0. 0. 0. 0. 0. 0. 0. 0. 0. 0. 0. 0. 0. 0. 0. 1.\n",
      " 0. 0. 0. 0. 0. 1. 0. 0. 0. 0. 0. 0. 0. 0. 0. 0. 0. 0. 1. 0. 0. 0. 0. 0.\n",
      " 0. 0. 1. 0. 0. 0. 1. 0. 0. 0. 0. 0. 0. 0. 0. 0. 0. 0. 1. 0. 0. 0. 0. 0.\n",
      " 0. 0. 0. 0. 0. 0. 0. 0. 0. 0. 0. 0. 0. 0. 0. 0. 0. 1. 0. 0. 1. 0. 0. 0.\n",
      " 1. 0. 0. 0. 0. 0. 0. 0. 0. 0. 0. 0. 0. 0. 0. 0. 0. 0. 0. 0. 0. 0. 0. 1.\n",
      " 0. 0. 0. 0. 0. 0. 1. 0. 0. 0. 0. 0. 0. 0. 0. 0. 0. 0. 0. 0. 0. 0. 0. 1.\n",
      " 0. 0. 0. 0. 0. 0. 0. 0. 0. 0. 0. 0. 1. 0. 0. 0. 0. 0. 1. 0. 0. 0. 0. 0.\n",
      " 1. 0. 0. 0. 0. 0. 1. 0. 0. 0. 0. 0. 0. 0. 0. 0. 0. 1. 0. 0. 1. 0. 0. 0.\n",
      " 0. 0. 0. 0. 0. 0. 0. 0. 0. 1. 0. 0. 0. 0. 0. 0. 0. 0. 0. 0. 1. 0. 0. 0.\n",
      " 0. 0. 0. 1. 0. 0. 1. 0. 0. 0. 0. 0. 1. 0. 0. 0. 0. 0. 0. 0. 0. 0. 0. 1.\n",
      " 0. 0. 0. 0. 0. 0. 0. 0. 1. 0. 0. 0. 1. 0. 0. 0. 0. 0. 0. 0. 0. 1. 0. 0.\n",
      " 0. 0. 0. 0. 0. 1. 1. 0. 0. 0. 0. 0. 0. 0. 0. 0. 0. 1. 0. 0. 0. 0. 0. 0.\n",
      " 0. 0. 1. 0. 0. 0. 0. 0. 0. 0. 0. 0. 0. 0. 0. 1. 0. 0. 1. 0. 0. 0. 0. 0.]\n"
     ]
    },
    {
     "data": {
      "text/plain": [
       "{'NV1': ['C1', None, 'C6', 'C1', None, 'C4'],\n",
       " 'NV2': ['C3', None, 'C1', 'C6', None, 'C1'],\n",
       " 'NV3': [None, 'C6', 'C1', None, None, 'C1'],\n",
       " 'NV4': ['C3', 'C1', None, None, None, 'C6'],\n",
       " 'NV5': ['C6', None, None, 'C1', 'C3', 'C1'],\n",
       " 'NV6': [None, 'C1', None, None, 'C6', 'C3'],\n",
       " 'NV7': ['C1', None, None, 'C6', None, 'C1'],\n",
       " 'NV8': [None, 'C6', None, None, 'C1', 'C1'],\n",
       " 'NV9': ['C1', 'C1', 'C6', 'C3', None, 'C4'],\n",
       " 'NV10': [None, 'C3', 'C4', 'C1', 'C1', 'C6'],\n",
       " 'NV11': [None, 'C3', 'C1', 'C4', 'C6', 'C1'],\n",
       " 'NV12': ['C6', None, 'C3', None, 'C4', 'C1']}"
      ]
     },
     "execution_count": 17,
     "metadata": {},
     "output_type": "execute_result"
    }
   ],
   "source": [
    "schedule_1 = task3.solve(shifts_dict, table_1, schedule_1)\n",
    "schedule_1"
   ]
  },
  {
   "cell_type": "code",
   "execution_count": 18,
   "metadata": {},
   "outputs": [
    {
     "name": "stdout",
     "output_type": "stream",
     "text": [
      "        message: Optimization terminated successfully. (HiGHS Status 7: Optimal)\n",
      "        success: True\n",
      "         status: 0\n",
      "            fun: 37.0\n",
      "              x: [ 0.000e+00  0.000e+00 ...  0.000e+00  0.000e+00]\n",
      "            nit: -1\n",
      "          lower:  residual: [ 0.000e+00  0.000e+00 ...  0.000e+00\n",
      "                              0.000e+00]\n",
      "                 marginals: [ 0.000e+00  0.000e+00 ...  0.000e+00\n",
      "                              0.000e+00]\n",
      "          upper:  residual: [       inf        inf ...        inf\n",
      "                                    inf]\n",
      "                 marginals: [ 0.000e+00  0.000e+00 ...  0.000e+00\n",
      "                              0.000e+00]\n",
      "          eqlin:  residual: []\n",
      "                 marginals: []\n",
      "        ineqlin:  residual: [ 0.000e+00  0.000e+00 ...  1.000e+00\n",
      "                              1.000e+00]\n",
      "                 marginals: [ 0.000e+00  0.000e+00 ...  0.000e+00\n",
      "                              0.000e+00]\n",
      " mip_node_count: 1\n",
      " mip_dual_bound: 37.0\n",
      "        mip_gap: 0.0\n",
      "[0. 0. 0. 0. 0. 1. 0. 1. 0. 0. 0. 0. 0. 0. 0. 0. 0. 0. 1. 0. 0. 0. 0. 0.\n",
      " 0. 0. 0. 0. 0. 0. 0. 0. 0. 1. 0. 0. 0. 0. 0. 0. 0. 0. 1. 0. 0. 0. 0. 0.\n",
      " 0. 0. 0. 0. 0. 0. 0. 0. 1. 0. 0. 0. 0. 0. 0. 0. 0. 0. 0. 0. 0. 0. 1. 0.\n",
      " 0. 0. 0. 0. 1. 0. 0. 1. 0. 0. 0. 0. 0. 0. 0. 0. 0. 0. 0. 0. 0. 0. 0. 0.\n",
      " 0. 0. 0. 0. 0. 0. 1. 0. 0. 0. 0. 0. 1. 0. 0. 0. 0. 0. 0. 0. 0. 0. 0. 0.\n",
      " 1. 0. 0. 0. 0. 0. 0. 0. 0. 0. 0. 1. 0. 0. 1. 0. 0. 0. 0. 1. 0. 0. 0. 0.\n",
      " 0. 0. 0. 0. 0. 0. 1. 0. 0. 0. 0. 0. 0. 0. 0. 0. 0. 0. 0. 0. 0. 0. 0. 0.\n",
      " 0. 0. 0. 0. 0. 0. 0. 0. 0. 0. 0. 1. 1. 0. 0. 0. 0. 0. 0. 0. 0. 0. 0. 0.\n",
      " 0. 1. 0. 0. 0. 0. 0. 0. 0. 0. 0. 0. 0. 0. 0. 0. 0. 0. 0. 0. 0. 1. 0. 0.\n",
      " 0. 0. 0. 0. 0. 0. 0. 0. 0. 0. 0. 0. 0. 0. 0. 0. 0. 1. 0. 0. 0. 0. 0. 0.\n",
      " 1. 0. 0. 0. 0. 0. 0. 0. 0. 0. 1. 0. 0. 1. 0. 0. 0. 0. 0. 0. 0. 0. 0. 0.\n",
      " 0. 0. 0. 0. 0. 0. 0. 0. 0. 0. 0. 0. 0. 0. 0. 0. 0. 1. 1. 0. 0. 0. 0. 0.\n",
      " 0. 0. 0. 0. 0. 0. 0. 0. 0. 0. 1. 0. 1. 0. 0. 0. 0. 0. 0. 1. 0. 0. 0. 0.\n",
      " 0. 0. 0. 0. 0. 0. 1. 0. 0. 0. 0. 0. 0. 0. 0. 0. 0. 0. 0. 0. 0. 0. 0. 1.\n",
      " 0. 0. 0. 1. 0. 0. 0. 0. 0. 0. 1. 0. 1. 0. 0. 0. 0. 0. 0. 1. 0. 0. 0. 0.\n",
      " 0. 0. 0. 0. 0. 0. 0. 0. 0. 0. 0. 0. 0. 0. 0. 0. 0. 0. 0. 0. 0. 0. 0. 1.\n",
      " 0. 0. 0. 0. 0. 0. 1. 0. 0. 0. 0. 0.]\n"
     ]
    },
    {
     "data": {
      "text/plain": [
       "{'NV1': ['C6', 'C2', None, 'C1', None, 'C4'],\n",
       " 'NV2': [None, 'C1', None, 'C3', None, 'C5'],\n",
       " 'NV3': ['C5', 'C2', None, None, None, 'C1'],\n",
       " 'NV4': ['C1', None, 'C1', 'C6', 'C3', 'C2'],\n",
       " 'NV5': [None, 'C1', None, None, None, 'C6'],\n",
       " 'NV6': ['C1', None, 'C2', None, None, 'C4'],\n",
       " 'NV7': [None, None, 'C6', None, 'C1', 'C5'],\n",
       " 'NV8': ['C2', None, None, None, 'C6', 'C1'],\n",
       " 'NV9': [None, 'C5', 'C1', 'C2', None, 'C1'],\n",
       " 'NV10': [None, 'C6', 'C4', 'C5', 'C1', 'C2'],\n",
       " 'NV11': [None, None, None, 'C6', None, 'C1']}"
      ]
     },
     "execution_count": 18,
     "metadata": {},
     "output_type": "execute_result"
    }
   ],
   "source": [
    "schedule_2 = task3.solve(shifts_dict, table_2, schedule_2)\n",
    "schedule_2"
   ]
  },
  {
   "cell_type": "code",
   "execution_count": 19,
   "metadata": {},
   "outputs": [
    {
     "data": {
      "text/plain": [
       "{'NV1': ['C1', None, 'C6', 'C1', None, 'C4', None],\n",
       " 'NV2': ['C3', None, 'C1', 'C6', None, 'C1', None],\n",
       " 'NV3': [None, 'C6', 'C1', None, None, 'C1', None],\n",
       " 'NV4': ['C3', 'C1', None, None, None, 'C6', None],\n",
       " 'NV5': ['C6', None, None, 'C1', 'C3', 'C1', None],\n",
       " 'NV6': [None, 'C1', None, None, 'C6', 'C3', None],\n",
       " 'NV7': ['C1', None, None, 'C6', None, 'C1', None],\n",
       " 'NV8': [None, 'C6', None, None, 'C1', 'C1', None],\n",
       " 'NV9': ['C1', 'C1', 'C6', 'C3', None, 'C4', None],\n",
       " 'NV10': [None, 'C3', 'C4', 'C1', 'C1', 'C6', None],\n",
       " 'NV11': [None, 'C3', 'C1', 'C4', 'C6', 'C1', None],\n",
       " 'NV12': ['C6', None, 'C3', None, 'C4', 'C1', None]}"
      ]
     },
     "execution_count": 19,
     "metadata": {},
     "output_type": "execute_result"
    }
   ],
   "source": [
    "# add sunday col to schedule_1\n",
    "schedule_1 = { employee: shift + [None] for employee, shift in schedule_1.items()}\n",
    "schedule_1"
   ]
  },
  {
   "cell_type": "code",
   "execution_count": 20,
   "metadata": {},
   "outputs": [
    {
     "data": {
      "text/plain": [
       "{'NV13': [None, None, None, 'C6', None, None, 'C1'],\n",
       " 'NV14': [None, 'C1', None, 'C3', None, None, 'C5'],\n",
       " 'NV15': ['C5', 'C2', None, None, None, None, 'C1'],\n",
       " 'NV16': ['C1', None, 'C1', 'C6', 'C3', None, 'C2'],\n",
       " 'NV17': [None, 'C1', None, None, None, None, 'C6'],\n",
       " 'NV18': ['C1', None, 'C2', None, None, None, 'C4'],\n",
       " 'NV19': [None, None, 'C6', None, 'C1', None, 'C5'],\n",
       " 'NV20': ['C2', None, None, None, 'C6', None, 'C1'],\n",
       " 'NV21': [None, 'C5', 'C1', 'C2', None, None, 'C1'],\n",
       " 'NV12': [None, 'C6', 'C4', 'C5', 'C1', None, 'C2']}"
      ]
     },
     "execution_count": 20,
     "metadata": {},
     "output_type": "execute_result"
    }
   ],
   "source": [
    "# add saturday col to schedule_1\n",
    "offset = len(schedule_2.keys()) + 1\n",
    "for employee, shift in schedule_2.items():\n",
    "    shift.insert(-1, None)\n",
    "schedule_2 = {f\"NV{int(employee[-1])+ offset}\": shift for employee, shift in schedule_2.items()}\n",
    "schedule_2"
   ]
  },
  {
   "cell_type": "code",
   "execution_count": 21,
   "metadata": {},
   "outputs": [
    {
     "data": {
      "text/plain": [
       "{'NV1': ['C1', None, 'C6', 'C1', None, 'C4', None],\n",
       " 'NV2': ['C3', None, 'C1', 'C6', None, 'C1', None],\n",
       " 'NV3': [None, 'C6', 'C1', None, None, 'C1', None],\n",
       " 'NV4': ['C3', 'C1', None, None, None, 'C6', None],\n",
       " 'NV5': ['C6', None, None, 'C1', 'C3', 'C1', None],\n",
       " 'NV6': [None, 'C1', None, None, 'C6', 'C3', None],\n",
       " 'NV7': ['C1', None, None, 'C6', None, 'C1', None],\n",
       " 'NV8': [None, 'C6', None, None, 'C1', 'C1', None],\n",
       " 'NV9': ['C1', 'C1', 'C6', 'C3', None, 'C4', None],\n",
       " 'NV10': [None, 'C3', 'C4', 'C1', 'C1', 'C6', None],\n",
       " 'NV11': [None, 'C3', 'C1', 'C4', 'C6', 'C1', None],\n",
       " 'NV12': [None, 'C6', 'C4', 'C5', 'C1', None, 'C2'],\n",
       " 'NV13': [None, None, None, 'C6', None, None, 'C1'],\n",
       " 'NV14': [None, 'C1', None, 'C3', None, None, 'C5'],\n",
       " 'NV15': ['C5', 'C2', None, None, None, None, 'C1'],\n",
       " 'NV16': ['C1', None, 'C1', 'C6', 'C3', None, 'C2'],\n",
       " 'NV17': [None, 'C1', None, None, None, None, 'C6'],\n",
       " 'NV18': ['C1', None, 'C2', None, None, None, 'C4'],\n",
       " 'NV19': [None, None, 'C6', None, 'C1', None, 'C5'],\n",
       " 'NV20': ['C2', None, None, None, 'C6', None, 'C1'],\n",
       " 'NV21': [None, 'C5', 'C1', 'C2', None, None, 'C1']}"
      ]
     },
     "execution_count": 21,
     "metadata": {},
     "output_type": "execute_result"
    }
   ],
   "source": [
    "merge = list(schedule_1.items()) + list(schedule_2.items())\n",
    "merge = {employee: shift for employee, shift in merge}\n",
    "merge"
   ]
  },
  {
   "cell_type": "code",
   "execution_count": 22,
   "metadata": {},
   "outputs": [
    {
     "name": "stdout",
     "output_type": "stream",
     "text": [
      "A result is correct\n"
     ]
    }
   ],
   "source": [
    "K = shifts_dict.keys()\n",
    "I = merge.keys()\n",
    "freq = {}\n",
    "for k in K:\n",
    "    freq[k] = np.zeros(len(I))\n",
    "\n",
    "for idx, i in enumerate(I):\n",
    "    for k in merge[i]:\n",
    "        if k is None: continue\n",
    "        freq[k][idx] += 1\n",
    "# print(freq)\n",
    "F = freq.keys()\n",
    "ret = True\n",
    "for f in F:\n",
    "    min_val = np.min(freq[f])\n",
    "    max_val = np.max(freq[f])\n",
    "    if abs(max_val - min_val) > 1:\n",
    "        ret = False\n",
    "\n",
    "if ret:\n",
    "    print(\"A result is correct\")\n",
    "else:\n",
    "    print(\"Some CSR does not have a break day\")"
   ]
  },
  {
   "cell_type": "code",
   "execution_count": 35,
   "metadata": {},
   "outputs": [],
   "source": [
    "import json\n",
    "with open(\"output/output4.json\", \"w\") as f:\n",
    "    json.dump(merge, f, indent=None)\n",
    "\n",
    "## read the file contents and modify them (each NV on 1 line)\n",
    "with open(\"output/output4.json\", \"r\") as f:\n",
    "    contents = f.read()\n",
    "    # Replace newlines with ',\\n' except for lines that contain a list value\n",
    "    contents = contents.replace(\"], \", \"],\\n\\t\")\n",
    "    contents = contents.replace(\"{\", \"{\\n\\t\")\n",
    "    contents = contents.replace(\"]}\", \"]\\n}\")\n",
    "    # print(contents)\n",
    "\n",
    "## overwrite the file with the modified contents\n",
    "with open(\"output/output4.json\", \"w\") as f:\n",
    "    f.write(contents)"
   ]
  }
 ],
 "metadata": {
  "kernelspec": {
   "display_name": "Python 3",
   "language": "python",
   "name": "python3"
  },
  "language_info": {
   "codemirror_mode": {
    "name": "ipython",
    "version": 3
   },
   "file_extension": ".py",
   "mimetype": "text/x-python",
   "name": "python",
   "nbconvert_exporter": "python",
   "pygments_lexer": "ipython3",
   "version": "3.10.4"
  },
  "orig_nbformat": 4
 },
 "nbformat": 4,
 "nbformat_minor": 2
}
